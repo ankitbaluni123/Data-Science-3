{
 "cells": [
  {
   "cell_type": "markdown",
   "metadata": {},
   "source": [
    "## __B18030-Tushar Goyal_CSE__"
   ]
  },
  {
   "cell_type": "markdown",
   "metadata": {},
   "source": [
    "### Multivariate Gaussian Random Vector Generator\n",
    "###### This is one of the most useful tool in data generation. Most of the times, we know that there is some correlation between the features of the data and we want to sample a n-dimensional random vector from above distribution characterized by mean vector μ and co-variance matrix Σ."
   ]
  },
  {
   "cell_type": "markdown",
   "metadata": {},
   "source": [
    "##### A univariate distribution is suitable when we want to express our uncertainty over a quantity like adult weight. What if we want to express our uncertainty over multiple quantities (joint random variables — adult weight and height)?"
   ]
  },
  {
   "cell_type": "markdown",
   "metadata": {},
   "source": [
    "- numpy.random.multivariate_normal \n",
    "\n",
    "__numpy.random.multivariate_normal(mean, cov[, size, check_valid, tol])__\n",
    "\n",
    "Draw random samples from a multivariate normal distribution.\n",
    "\n",
    "- The multivariate normal, multinormal or Gaussian distribution is a generalization of the one-dimensional normal distribution to higher dimensions. Such a distribution is specified by its mean and covariance matrix. "
   ]
  },
  {
   "cell_type": "markdown",
   "metadata": {},
   "source": [
    "##### Generate 1000 samples each with 2 dimensions, say this data matrix D. Each sample is independently and identically distributed with multi-variate (multi >= 2 dimensions) Gaussian distribution with user entered mean values and covariance matrix"
   ]
  },
  {
   "cell_type": "code",
   "execution_count": 24,
   "metadata": {},
   "outputs": [],
   "source": [
    "from numpy import array\n",
    "from numpy import mean\n",
    "from numpy import cov\n",
    "from numpy.linalg import eig\n",
    "from numpy import matmul\n",
    "import seaborn as sns"
   ]
  },
  {
   "cell_type": "code",
   "execution_count": 6,
   "metadata": {},
   "outputs": [
    {
     "name": "stdout",
     "output_type": "stream",
     "text": [
      "Enter mean: 0 0\n",
      "Enter 1st row of cov matrix:\n",
      "7 10\n",
      "Enter 2nd row of cov matrix:\n",
      "10 18\n"
     ]
    },
    {
     "data": {
      "text/plain": [
       "<matplotlib.collections.PathCollection at 0x14156c30>"
      ]
     },
     "execution_count": 6,
     "metadata": {},
     "output_type": "execute_result"
    },
    {
     "data": {
      "text/plain": [
       "Text(0.5, 1.0, 'scatter plot of the data samples->')"
      ]
     },
     "execution_count": 6,
     "metadata": {},
     "output_type": "execute_result"
    },
    {
     "data": {
      "image/png": "[encoded data removed]",
      "text/plain": [
       "<Figure size 432x288 with 1 Axes>"
      ]
     },
     "metadata": {
      "needs_background": "light"
     },
     "output_type": "display_data"
    },
    {
     "name": "stdout",
     "output_type": "stream",
     "text": [
      "\n",
      "size of D in bytes:  16056\n"
     ]
    }
   ],
   "source": [
    "import sys\n",
    "import numpy as np\n",
    "import pandas as pd\n",
    "import matplotlib.pyplot as plt\n",
    "\n",
    "a,b=input(\"Enter mean: \").split()\n",
    "a,b=int(a),int(b)\n",
    "mean=[a,b]\n",
    "print(\"Enter 1st row of cov matrix:\")\n",
    "c1=[int(x) for x in input().split()]\n",
    "print(\"Enter 2nd row of cov matrix:\")\n",
    "c2=[int(x) for x in input().split()]\n",
    "Cov_mat=[c1,c2]\n",
    "np.random.seed(0)\n",
    "D = pd.DataFrame(np.random.multivariate_normal(mean, Cov_mat, 1000), columns = ['A', 'B'])\n",
    "plt.scatter(D.A, D.B,marker='.')\n",
    "plt.title(\"scatter plot of the data samples->\")\n",
    "plt.show()\n",
    "print(\"\\nsize of D in bytes: \", sys.getsizeof(D))"
   ]
  },
  {
   "cell_type": "markdown",
   "metadata": {},
   "source": [
    "#### Inferences:\n",
    "- Scatter plot is __centered at (mean1,mean2) and dispersed according to the cov matrix.__\n",
    "- __Eigenvectors would be along the directions in which there is max dispersion of data__\n"
   ]
  },
  {
   "cell_type": "code",
   "execution_count": 19,
   "metadata": {},
   "outputs": [
    {
     "data": {
      "text/html": [
       "<div>\n",
       "<style scoped>\n",
       "    .dataframe tbody tr th:only-of-type {\n",
       "        vertical-align: middle;\n",
       "    }\n",
       "\n",
       "    .dataframe tbody tr th {\n",
       "        vertical-align: top;\n",
       "    }\n",
       "\n",
       "    .dataframe thead th {\n",
       "        text-align: right;\n",
       "    }\n",
       "</style>\n",
       "<table border=\"1\" class=\"dataframe\">\n",
       "  <thead>\n",
       "    <tr style=\"text-align: right;\">\n",
       "      <th></th>\n",
       "      <th>A</th>\n",
       "      <th>B</th>\n",
       "    </tr>\n",
       "  </thead>\n",
       "  <tbody>\n",
       "    <tr>\n",
       "      <th>0</th>\n",
       "      <td>-4.749628</td>\n",
       "      <td>-7.213088</td>\n",
       "    </tr>\n",
       "    <tr>\n",
       "      <th>1</th>\n",
       "      <td>-4.447294</td>\n",
       "      <td>-2.930557</td>\n",
       "    </tr>\n",
       "    <tr>\n",
       "      <th>2</th>\n",
       "      <td>-3.770890</td>\n",
       "      <td>-8.379793</td>\n",
       "    </tr>\n",
       "    <tr>\n",
       "      <th>3</th>\n",
       "      <td>-2.228772</td>\n",
       "      <td>-4.079550</td>\n",
       "    </tr>\n",
       "    <tr>\n",
       "      <th>4</th>\n",
       "      <td>-0.111646</td>\n",
       "      <td>0.652389</td>\n",
       "    </tr>\n",
       "  </tbody>\n",
       "</table>\n",
       "</div>"
      ],
      "text/plain": [
       "          A         B\n",
       "0 -4.749628 -7.213088\n",
       "1 -4.447294 -2.930557\n",
       "2 -3.770890 -8.379793\n",
       "3 -2.228772 -4.079550\n",
       "4 -0.111646  0.652389"
      ]
     },
     "execution_count": 19,
     "metadata": {},
     "output_type": "execute_result"
    }
   ],
   "source": [
    "D.head()"
   ]
  },
  {
   "cell_type": "code",
   "execution_count": 20,
   "metadata": {},
   "outputs": [
    {
     "data": {
      "text/plain": [
       "array([[-4.74962803, -7.21308835],\n",
       "       [-4.44729371, -2.9305568 ],\n",
       "       [-3.77089022, -8.37979316],\n",
       "       ...,\n",
       "       [-0.58010264, -0.78084424],\n",
       "       [-3.63038446, -5.8153739 ],\n",
       "       [ 4.01870969,  4.11088152]])"
      ]
     },
     "execution_count": 20,
     "metadata": {},
     "output_type": "execute_result"
    }
   ],
   "source": [
    "D.values\n"
   ]
  },
  {
   "cell_type": "code",
   "execution_count": 21,
   "metadata": {},
   "outputs": [],
   "source": [
    "meanA,meanB=list(D.mean())"
   ]
  },
  {
   "cell_type": "code",
   "execution_count": 22,
   "metadata": {},
   "outputs": [
    {
     "data": {
      "text/plain": [
       "0.06298771630321233"
      ]
     },
     "execution_count": 22,
     "metadata": {},
     "output_type": "execute_result"
    }
   ],
   "source": [
    "meanA"
   ]
  },
  {
   "cell_type": "markdown",
   "metadata": {},
   "source": [
    "__Covariance Matrix__ :\n",
    "- The covariance is defined as the measure of the joint variability of two random variables"
   ]
  },
  {
   "cell_type": "code",
   "execution_count": 25,
   "metadata": {},
   "outputs": [],
   "source": [
    "X=D-D.mean()\n",
    "X_T=X.T\n",
    "C=matmul(X_T.values,X.values)/999"
   ]
  },
  {
   "cell_type": "code",
   "execution_count": 26,
   "metadata": {},
   "outputs": [
    {
     "data": {
      "text/plain": [
       "array([[ 6.60465883,  9.4641473 ],\n",
       "       [ 9.4641473 , 17.17041334]])"
      ]
     },
     "execution_count": 26,
     "metadata": {},
     "output_type": "execute_result"
    }
   ],
   "source": [
    "C"
   ]
  },
  {
   "cell_type": "code",
   "execution_count": 27,
   "metadata": {},
   "outputs": [],
   "source": [
    "import seaborn as sns"
   ]
  },
  {
   "cell_type": "markdown",
   "metadata": {},
   "source": [
    "##### After the covariance matrix is generated, eigendecomposition is performed on the covariance matrix. Eigenvectors and eigenvalues are found as a result of the eigendceomposition. Each eigenvector has a corresponding eigenvalue, and the sum of the eigenvalues represents all of the variance within the entire dataset"
   ]
  },
  {
   "cell_type": "markdown",
   "metadata": {},
   "source": [
    "<font size =4.9 color='red' >The numpy.linalg.eig function returns a tuple consisting of a vector[vector of eigen values] and an array. The vector  contains the eigenvalues. The array  contains the corresponding eigenvectors, one eigenvector per column. The eigenvectors are normalized so their Euclidean norms are 1 ."
   ]
  },
  {
   "cell_type": "code",
   "execution_count": 28,
   "metadata": {},
   "outputs": [
    {
     "name": "stdout",
     "output_type": "stream",
     "text": [
      "[[-0.86078997 -0.50896034]\n",
      " [ 0.50896034 -0.86078997]]\n",
      "Eigen values array is :[ 1.08728779 23.91271221]\n"
     ]
    }
   ],
   "source": [
    "\n",
    "# eigen decomposition of covariance matrix\n",
    "eigen_vals, eigen_vecs = eig(Cov_mat)\n",
    "print(eigen_vecs)\n",
    "print(\"Eigen values array is :\",end=\"\")\n",
    "print(eigen_vals)\n",
    "vec1, vec2 = eigen_vecs[:, 0], eigen_vecs[:, 1]"
   ]
  },
  {
   "cell_type": "code",
   "execution_count": 29,
   "metadata": {},
   "outputs": [
    {
     "data": {
      "text/plain": [
       "<matplotlib.collections.PathCollection at 0x12593c70>"
      ]
     },
     "execution_count": 29,
     "metadata": {},
     "output_type": "execute_result"
    },
    {
     "data": {
      "text/plain": [
       "<matplotlib.quiver.Quiver at 0x12593e10>"
      ]
     },
     "execution_count": 29,
     "metadata": {},
     "output_type": "execute_result"
    },
    {
     "data": {
      "text/plain": [
       "<matplotlib.quiver.Quiver at 0x125939f0>"
      ]
     },
     "execution_count": 29,
     "metadata": {},
     "output_type": "execute_result"
    },
    {
     "data": {
      "text/plain": [
       "<matplotlib.legend.Legend at 0x12593fd0>"
      ]
     },
     "execution_count": 29,
     "metadata": {},
     "output_type": "execute_result"
    },
    {
     "data": {
      "image/png": "[encoded data removed]",
      "text/plain": [
       "<Figure size 432x288 with 1 Axes>"
      ]
     },
     "metadata": {
      "needs_background": "light"
     },
     "output_type": "display_data"
    }
   ],
   "source": [
    "qt=eigen_vecs.transpose()\n",
    "plt.scatter(D.A, D.B,marker='.')\n",
    "plt.quiver(meanA,meanB,vec1[0],vec1[1],scale=5,color='r',label=\"vector1\")\n",
    "plt.quiver(meanA,meanB,vec2[0],vec2[1],scale=5,color='g',label=\"vector2\")\n",
    "plt.legend()"
   ]
  },
  {
   "cell_type": "markdown",
   "metadata": {},
   "source": [
    "__PROBLEM 2__\n",
    "\n",
    "- Compute a matrix A belonging to R(2x1) such that DxA = ~D. Here D is the data matrix with data\n",
    "samples in its columns (2 dimensions) and ~D represents the matrix with reduced dimensions\n",
    "(1 dimension). How can you generate such matrix A? Compute the reconstruction error\n",
    "between ~D obtained using (your generated) A, and D using mean square error.\n",
    "Hint: Think of A as A = [a1 a2], and a1 & a2 as the weights to the first and second column of matrix D respectively, while\n",
    "multiplying D with A."
   ]
  },
  {
   "cell_type": "code",
   "execution_count": 24,
   "metadata": {
    "scrolled": true
   },
   "outputs": [
    {
     "name": "stdout",
     "output_type": "stream",
     "text": [
      "\n",
      "A matrix :\n",
      "  [0.42209129 0.57790871]\n",
      "          A         B\n",
      "0 -2.605689 -3.567594\n",
      "1 -1.507186 -2.063572\n",
      "2 -2.715911 -3.718505\n",
      "3 -1.392206 -1.906147\n",
      "4  0.139246  0.190650\n"
     ]
    }
   ],
   "source": [
    "sum1 = sum(D.A)\n",
    "sum2 = sum(D.B)\n",
    "A = np.array([sum1/(sum1+sum2), sum2/(sum1+sum2)])\n",
    "print(\"\\nA matrix :\\n \", A)\n",
    "\n",
    "\n",
    "D_red = np.matmul(np.array(D.values), A.T)\n",
    "D2 = pd.DataFrame([D_red[i] * A for i in range(1000)], columns = ['A', 'B'])\n",
    "print(D2.head())\n"
   ]
  },
  {
   "cell_type": "code",
   "execution_count": 25,
   "metadata": {},
   "outputs": [
    {
     "data": {
      "text/plain": [
       "(1000, 2)"
      ]
     },
     "execution_count": 25,
     "metadata": {},
     "output_type": "execute_result"
    }
   ],
   "source": [
    "D.shape"
   ]
  },
  {
   "cell_type": "code",
   "execution_count": 26,
   "metadata": {},
   "outputs": [
    {
     "data": {
      "text/plain": [
       "pandas.core.frame.DataFrame"
      ]
     },
     "execution_count": 26,
     "metadata": {},
     "output_type": "execute_result"
    }
   ],
   "source": [
    "type(D) "
   ]
  },
  {
   "cell_type": "code",
   "execution_count": 16,
   "metadata": {},
   "outputs": [
    {
     "ename": "NameError",
     "evalue": "name 'D2' is not defined",
     "output_type": "error",
     "traceback": [
      "\u001b[1;31m---------------------------------------------------------------------------\u001b[0m",
      "\u001b[1;31mNameError\u001b[0m                                 Traceback (most recent call last)",
      "\u001b[1;32m<ipython-input-16-392c4f4e780e>\u001b[0m in \u001b[0;36m<module>\u001b[1;34m\u001b[0m\n\u001b[1;32m----> 1\u001b[1;33m \u001b[0merror\u001b[0m\u001b[1;33m=\u001b[0m\u001b[0mnp\u001b[0m\u001b[1;33m.\u001b[0m\u001b[0msum\u001b[0m\u001b[1;33m(\u001b[0m\u001b[0mnp\u001b[0m\u001b[1;33m.\u001b[0m\u001b[0msquare\u001b[0m\u001b[1;33m(\u001b[0m\u001b[0mD\u001b[0m\u001b[1;33m-\u001b[0m\u001b[0mD2\u001b[0m\u001b[1;33m)\u001b[0m\u001b[1;33m)\u001b[0m\u001b[1;33m\u001b[0m\u001b[1;33m\u001b[0m\u001b[0m\n\u001b[0m\u001b[0;32m      2\u001b[0m \u001b[0merror\u001b[0m\u001b[1;33m/\u001b[0m\u001b[1;36m1000\u001b[0m\u001b[1;33m\u001b[0m\u001b[1;33m\u001b[0m\u001b[0m\n",
      "\u001b[1;31mNameError\u001b[0m: name 'D2' is not defined"
     ]
    }
   ],
   "source": [
    "error=np.sum(np.square(D-D2))\n",
    "error/1000\n"
   ]
  },
  {
   "cell_type": "markdown",
   "metadata": {},
   "source": [
    "![title](https://i.ibb.co/RbxBGmB/PCA-algo.png)"
   ]
  },
  {
   "cell_type": "code",
   "execution_count": 28,
   "metadata": {},
   "outputs": [],
   "source": [
    "Dt=pd.DataFrame(columns=['A','B'])"
   ]
  },
  {
   "cell_type": "code",
   "execution_count": 29,
   "metadata": {},
   "outputs": [
    {
     "data": {
      "text/html": [
       "<div>\n",
       "<style scoped>\n",
       "    .dataframe tbody tr th:only-of-type {\n",
       "        vertical-align: middle;\n",
       "    }\n",
       "\n",
       "    .dataframe tbody tr th {\n",
       "        vertical-align: top;\n",
       "    }\n",
       "\n",
       "    .dataframe thead th {\n",
       "        text-align: right;\n",
       "    }\n",
       "</style>\n",
       "<table border=\"1\" class=\"dataframe\">\n",
       "  <thead>\n",
       "    <tr style=\"text-align: right;\">\n",
       "      <th></th>\n",
       "      <th>A</th>\n",
       "      <th>B</th>\n",
       "    </tr>\n",
       "  </thead>\n",
       "  <tbody>\n",
       "  </tbody>\n",
       "</table>\n",
       "</div>"
      ],
      "text/plain": [
       "Empty DataFrame\n",
       "Columns: [A, B]\n",
       "Index: []"
      ]
     },
     "execution_count": 29,
     "metadata": {},
     "output_type": "execute_result"
    }
   ],
   "source": [
    "Dt"
   ]
  },
  {
   "cell_type": "code",
   "execution_count": 30,
   "metadata": {},
   "outputs": [
    {
     "data": {
      "text/html": [
       "<div>\n",
       "<style scoped>\n",
       "    .dataframe tbody tr th:only-of-type {\n",
       "        vertical-align: middle;\n",
       "    }\n",
       "\n",
       "    .dataframe tbody tr th {\n",
       "        vertical-align: top;\n",
       "    }\n",
       "\n",
       "    .dataframe thead th {\n",
       "        text-align: right;\n",
       "    }\n",
       "</style>\n",
       "<table border=\"1\" class=\"dataframe\">\n",
       "  <thead>\n",
       "    <tr style=\"text-align: right;\">\n",
       "      <th></th>\n",
       "      <th>0</th>\n",
       "      <th>1</th>\n",
       "      <th>2</th>\n",
       "      <th>3</th>\n",
       "      <th>4</th>\n",
       "      <th>5</th>\n",
       "      <th>6</th>\n",
       "      <th>7</th>\n",
       "      <th>8</th>\n",
       "      <th>9</th>\n",
       "      <th>...</th>\n",
       "      <th>990</th>\n",
       "      <th>991</th>\n",
       "      <th>992</th>\n",
       "      <th>993</th>\n",
       "      <th>994</th>\n",
       "      <th>995</th>\n",
       "      <th>996</th>\n",
       "      <th>997</th>\n",
       "      <th>998</th>\n",
       "      <th>999</th>\n",
       "    </tr>\n",
       "  </thead>\n",
       "  <tbody>\n",
       "    <tr>\n",
       "      <th>A</th>\n",
       "      <td>-4.749628</td>\n",
       "      <td>-4.447294</td>\n",
       "      <td>-3.770890</td>\n",
       "      <td>-2.228772</td>\n",
       "      <td>-0.111646</td>\n",
       "      <td>-1.663818</td>\n",
       "      <td>-2.003319</td>\n",
       "      <td>-1.404205</td>\n",
       "      <td>-3.534391</td>\n",
       "      <td>-0.012565</td>\n",
       "      <td>...</td>\n",
       "      <td>1.962835</td>\n",
       "      <td>1.144808</td>\n",
       "      <td>2.853051</td>\n",
       "      <td>-1.004055</td>\n",
       "      <td>3.109730</td>\n",
       "      <td>-2.677436</td>\n",
       "      <td>-2.982851</td>\n",
       "      <td>-0.580103</td>\n",
       "      <td>-3.630384</td>\n",
       "      <td>4.018710</td>\n",
       "    </tr>\n",
       "    <tr>\n",
       "      <th>B</th>\n",
       "      <td>-7.213088</td>\n",
       "      <td>-2.930557</td>\n",
       "      <td>-8.379793</td>\n",
       "      <td>-4.079550</td>\n",
       "      <td>0.652389</td>\n",
       "      <td>0.165471</td>\n",
       "      <td>-3.138875</td>\n",
       "      <td>-1.691277</td>\n",
       "      <td>-6.397931</td>\n",
       "      <td>-1.771077</td>\n",
       "      <td>...</td>\n",
       "      <td>3.322244</td>\n",
       "      <td>0.231710</td>\n",
       "      <td>1.711107</td>\n",
       "      <td>-1.780117</td>\n",
       "      <td>5.318033</td>\n",
       "      <td>-6.044212</td>\n",
       "      <td>-5.707493</td>\n",
       "      <td>-0.780844</td>\n",
       "      <td>-5.815374</td>\n",
       "      <td>4.110882</td>\n",
       "    </tr>\n",
       "  </tbody>\n",
       "</table>\n",
       "<p>2 rows × 1000 columns</p>\n",
       "</div>"
      ],
      "text/plain": [
       "        0         1         2         3         4         5         6    \\\n",
       "A -4.749628 -4.447294 -3.770890 -2.228772 -0.111646 -1.663818 -2.003319   \n",
       "B -7.213088 -2.930557 -8.379793 -4.079550  0.652389  0.165471 -3.138875   \n",
       "\n",
       "        7         8         9    ...       990       991       992       993  \\\n",
       "A -1.404205 -3.534391 -0.012565  ...  1.962835  1.144808  2.853051 -1.004055   \n",
       "B -1.691277 -6.397931 -1.771077  ...  3.322244  0.231710  1.711107 -1.780117   \n",
       "\n",
       "        994       995       996       997       998       999  \n",
       "A  3.109730 -2.677436 -2.982851 -0.580103 -3.630384  4.018710  \n",
       "B  5.318033 -6.044212 -5.707493 -0.780844 -5.815374  4.110882  \n",
       "\n",
       "[2 rows x 1000 columns]"
      ]
     },
     "execution_count": 30,
     "metadata": {},
     "output_type": "execute_result"
    }
   ],
   "source": [
    "D.T.head()\n"
   ]
  },
  {
   "cell_type": "code",
   "execution_count": 31,
   "metadata": {},
   "outputs": [],
   "source": [
    "Dt.A=np.matmul(np.array(D.values),vec1.T)#first principal component of each data point\n",
    "Dt.B=np.matmul(np.array(D.values),vec2.T)#second principal component of each data point"
   ]
  },
  {
   "cell_type": "code",
   "execution_count": 32,
   "metadata": {},
   "outputs": [
    {
     "data": {
      "text/html": [
       "<div>\n",
       "<style scoped>\n",
       "    .dataframe tbody tr th:only-of-type {\n",
       "        vertical-align: middle;\n",
       "    }\n",
       "\n",
       "    .dataframe tbody tr th {\n",
       "        vertical-align: top;\n",
       "    }\n",
       "\n",
       "    .dataframe thead th {\n",
       "        text-align: right;\n",
       "    }\n",
       "</style>\n",
       "<table border=\"1\" class=\"dataframe\">\n",
       "  <thead>\n",
       "    <tr style=\"text-align: right;\">\n",
       "      <th></th>\n",
       "      <th>A</th>\n",
       "      <th>B</th>\n",
       "    </tr>\n",
       "  </thead>\n",
       "  <tbody>\n",
       "    <tr>\n",
       "      <th>0</th>\n",
       "      <td>0.417256</td>\n",
       "      <td>8.626326</td>\n",
       "    </tr>\n",
       "    <tr>\n",
       "      <th>1</th>\n",
       "      <td>2.336649</td>\n",
       "      <td>4.786090</td>\n",
       "    </tr>\n",
       "    <tr>\n",
       "      <th>2</th>\n",
       "      <td>-1.019038</td>\n",
       "      <td>9.132475</td>\n",
       "    </tr>\n",
       "    <tr>\n",
       "      <th>3</th>\n",
       "      <td>-0.157825</td>\n",
       "      <td>4.645992</td>\n",
       "    </tr>\n",
       "    <tr>\n",
       "      <th>4</th>\n",
       "      <td>0.428144</td>\n",
       "      <td>-0.504747</td>\n",
       "    </tr>\n",
       "  </tbody>\n",
       "</table>\n",
       "</div>"
      ],
      "text/plain": [
       "          A         B\n",
       "0  0.417256  8.626326\n",
       "1  2.336649  4.786090\n",
       "2 -1.019038  9.132475\n",
       "3 -0.157825  4.645992\n",
       "4  0.428144 -0.504747"
      ]
     },
     "execution_count": 32,
     "metadata": {},
     "output_type": "execute_result"
    }
   ],
   "source": [
    "Dt.head()"
   ]
  },
  {
   "cell_type": "code",
   "execution_count": 33,
   "metadata": {},
   "outputs": [],
   "source": [
    "D_rec = pd.DataFrame(np.random.randn(1000, 2),columns = ['A', 'B'])\n",
    "#Reconstruct the data samples using all eigenvectors.\n",
    "for i in range(1000):\n",
    "    D_rec.iloc[i] = Dt.iloc[i][0] * vec1 + Dt.iloc[i][1] * vec2\n",
    "\n"
   ]
  },
  {
   "cell_type": "code",
   "execution_count": 34,
   "metadata": {},
   "outputs": [
    {
     "data": {
      "text/plain": [
       "A    4.037952e-31\n",
       "B    1.027120e-30\n",
       "dtype: float64"
      ]
     },
     "execution_count": 34,
     "metadata": {},
     "output_type": "execute_result"
    }
   ],
   "source": [
    "error=np.sum(np.square(D_rec-D))\n",
    "error/1000\n"
   ]
  },
  {
   "cell_type": "code",
   "execution_count": 35,
   "metadata": {},
   "outputs": [],
   "source": [
    "X=Dt-Dt.mean()\n",
    "X_T=X.T\n",
    "C=matmul(X_T.values,X.values)/1000"
   ]
  },
  {
   "cell_type": "code",
   "execution_count": 36,
   "metadata": {},
   "outputs": [
    {
     "data": {
      "text/plain": [
       "array([[ 1.04793308, -0.06792307],\n",
       "       [-0.06792307, 22.70336403]])"
      ]
     },
     "execution_count": 36,
     "metadata": {},
     "output_type": "execute_result"
    }
   ],
   "source": [
    "C"
   ]
  },
  {
   "cell_type": "markdown",
   "metadata": {},
   "source": [
    "## __Inferences:__\n",
    "__As it is clear that eigenvalues are same as the variances in the covariance matrix of transformed data.__\n",
    "\n",
    "__Also, for dimensional reduction, we would use the eigen vector parallel to the direction of max dispersion.__\n",
    "\n",
    "__That is the eigenvector corresponding to the larger eigenvalue.__\n"
   ]
  },
  {
   "cell_type": "markdown",
   "metadata": {},
   "source": [
    "#### The common approach is to rank the eigenvectors from highest to lowest corresponding eigenvalue and choose the top k eigenvectors to have the final dimension as k."
   ]
  },
  {
   "cell_type": "code",
   "execution_count": 37,
   "metadata": {},
   "outputs": [],
   "source": [
    "D_rec1 = pd.DataFrame(np.random.randn(1000, 2),columns = ['A', 'B'])\n",
    "for i in range(1000):\n",
    "    D_rec1.iloc[i] = Dt.iloc[i][0] * vec1"
   ]
  },
  {
   "cell_type": "code",
   "execution_count": 38,
   "metadata": {},
   "outputs": [
    {
     "data": {
      "text/html": [
       "<div>\n",
       "<style scoped>\n",
       "    .dataframe tbody tr th:only-of-type {\n",
       "        vertical-align: middle;\n",
       "    }\n",
       "\n",
       "    .dataframe tbody tr th {\n",
       "        vertical-align: top;\n",
       "    }\n",
       "\n",
       "    .dataframe thead th {\n",
       "        text-align: right;\n",
       "    }\n",
       "</style>\n",
       "<table border=\"1\" class=\"dataframe\">\n",
       "  <thead>\n",
       "    <tr style=\"text-align: right;\">\n",
       "      <th></th>\n",
       "      <th>A</th>\n",
       "      <th>B</th>\n",
       "    </tr>\n",
       "  </thead>\n",
       "  <tbody>\n",
       "    <tr>\n",
       "      <th>0</th>\n",
       "      <td>-0.359170</td>\n",
       "      <td>0.212367</td>\n",
       "    </tr>\n",
       "    <tr>\n",
       "      <th>1</th>\n",
       "      <td>-2.011364</td>\n",
       "      <td>1.189261</td>\n",
       "    </tr>\n",
       "    <tr>\n",
       "      <th>2</th>\n",
       "      <td>0.877178</td>\n",
       "      <td>-0.518650</td>\n",
       "    </tr>\n",
       "    <tr>\n",
       "      <th>3</th>\n",
       "      <td>0.135854</td>\n",
       "      <td>-0.080327</td>\n",
       "    </tr>\n",
       "    <tr>\n",
       "      <th>4</th>\n",
       "      <td>-0.368542</td>\n",
       "      <td>0.217908</td>\n",
       "    </tr>\n",
       "  </tbody>\n",
       "</table>\n",
       "</div>"
      ],
      "text/plain": [
       "          A         B\n",
       "0 -0.359170  0.212367\n",
       "1 -2.011364  1.189261\n",
       "2  0.877178 -0.518650\n",
       "3  0.135854 -0.080327\n",
       "4 -0.368542  0.217908"
      ]
     },
     "execution_count": 38,
     "metadata": {},
     "output_type": "execute_result"
    }
   ],
   "source": [
    "D_rec1.head()"
   ]
  },
  {
   "cell_type": "code",
   "execution_count": 39,
   "metadata": {},
   "outputs": [
    {
     "data": {
      "image/png": "[encoded data removed]",
      "text/plain": [
       "<Figure size 432x288 with 1 Axes>"
      ]
     },
     "metadata": {
      "needs_background": "light"
     },
     "output_type": "display_data"
    }
   ],
   "source": [
    "plt.xlim([-25,20])\n",
    "plt.ylim([-15,15])\n",
    "\n",
    "plt.scatter(D.A,D.B)\n",
    "plt.scatter(D_rec1.A,D_rec1.B)\n",
    "plt.quiver(meanA,meanB,vec1[0],vec1[1],scale=5,color='r')\n",
    "plt.quiver(meanA,meanB,vec2[0],vec2[1],scale=5,color='r')\n",
    "plt.show()"
   ]
  },
  {
   "cell_type": "code",
   "execution_count": 40,
   "metadata": {},
   "outputs": [],
   "source": [
    "D_rec2 = pd.DataFrame(np.random.randn(1000, 2),columns = ['A', 'B'])\n",
    "for i in range(1000):\n",
    "    D_rec2.iloc[i] = Dt.iloc[i][1] * vec2\n",
    "\n"
   ]
  },
  {
   "cell_type": "code",
   "execution_count": 41,
   "metadata": {},
   "outputs": [
    {
     "data": {
      "text/plain": [
       "<matplotlib.legend.Legend at 0xb00dd0>"
      ]
     },
     "execution_count": 41,
     "metadata": {},
     "output_type": "execute_result"
    },
    {
     "data": {
      "image/png": "[encoded data removed]",
      "text/plain": [
       "<Figure size 432x288 with 1 Axes>"
      ]
     },
     "metadata": {
      "needs_background": "light"
     },
     "output_type": "display_data"
    }
   ],
   "source": [
    "plt.xlim([-25,20])\n",
    "plt.ylim([-15,15])\n",
    "plt.scatter(D.A,D.B)\n",
    "plt.scatter(D_rec2.A,D_rec2.B)\n",
    "plt.quiver(meanA,meanB,vec1[0],vec1[1],scale=5,color='r',label=\"vector1\")\n",
    "plt.quiver(meanA,meanB,vec2[0],vec2[1],scale=5,color='g',label=\"vector2\")\n",
    "plt.legend()"
   ]
  },
  {
   "cell_type": "code",
   "execution_count": 42,
   "metadata": {},
   "outputs": [
    {
     "name": "stdout",
     "output_type": "stream",
     "text": [
      "Computing the reconstruction error for D_rec1  using mean square error ==> \n"
     ]
    },
    {
     "data": {
      "text/plain": [
       "A     5.884020\n",
       "B    16.830642\n",
       "dtype: float64"
      ]
     },
     "execution_count": 42,
     "metadata": {},
     "output_type": "execute_result"
    }
   ],
   "source": [
    "print(\"Computing the reconstruction error for D_rec1  using mean square error ==> \")\n",
    "error=np.sum(np.square(D_rec1-D))\n",
    "error/1000"
   ]
  },
  {
   "cell_type": "code",
   "execution_count": 43,
   "metadata": {},
   "outputs": [
    {
     "name": "stdout",
     "output_type": "stream",
     "text": [
      "Computing the reconstruction error for D_rec2  using mean square error ==> \n"
     ]
    },
    {
     "data": {
      "text/plain": [
       "A    0.776555\n",
       "B    0.271485\n",
       "dtype: float64"
      ]
     },
     "execution_count": 43,
     "metadata": {},
     "output_type": "execute_result"
    }
   ],
   "source": [
    "print(\"Computing the reconstruction error for D_rec2  using mean square error ==> \")\n",
    "error=np.sum(np.square(D_rec2-D))\n",
    "error/1000\n"
   ]
  },
  {
   "cell_type": "code",
   "execution_count": 44,
   "metadata": {},
   "outputs": [],
   "source": [
    "np.savetxt(\"data.csv\",D.values,delimiter=\",\")"
   ]
  },
  {
   "cell_type": "code",
   "execution_count": 45,
   "metadata": {},
   "outputs": [],
   "source": [
    "np.savetxt(\"PC_1.csv\",Dt.A,delimiter=\",\")"
   ]
  },
  {
   "cell_type": "code",
   "execution_count": 46,
   "metadata": {},
   "outputs": [],
   "source": [
    "np.savetxt(\"PC_2.csv\",Dt.B,delimiter=\",\")"
   ]
  },
  {
   "cell_type": "code",
   "execution_count": 47,
   "metadata": {},
   "outputs": [
    {
     "name": "stdout",
     "output_type": "stream",
     "text": [
      "\n",
      "size of D in bytes:  16056\n"
     ]
    }
   ],
   "source": [
    "print(\"\\nsize of D in bytes: \", sys.getsizeof(D))"
   ]
  },
  {
   "cell_type": "code",
   "execution_count": 48,
   "metadata": {},
   "outputs": [],
   "source": [
    "file1=pd.read_csv(\"PC_1.csv\")"
   ]
  },
  {
   "cell_type": "code",
   "execution_count": 49,
   "metadata": {},
   "outputs": [
    {
     "name": "stdout",
     "output_type": "stream",
     "text": [
      "\n",
      "size of file1 in bytes:  8048\n"
     ]
    }
   ],
   "source": [
    "print(\"\\nsize of file1 in bytes: \", sys.getsizeof(file1))"
   ]
  },
  {
   "cell_type": "markdown",
   "metadata": {},
   "source": [
    "<font size=5 color='orange'> Disadvantages of PCA =></font>\n",
    "- PCA tends to find linear correlations between variables, which is sometimes undesirable.\n",
    "- PCA fails in cases where mean and covariance are not enough to define datasets.\n",
    "- We may not know how many principal components to keep- in practice, some thumb rules are applied."
   ]
  },
  {
   "cell_type": "markdown",
   "metadata": {},
   "source": [
    "<font size=6.5 color='green' > Visualizing principal components of a Data Point</font>"
   ]
  },
  {
   "cell_type": "markdown",
   "metadata": {},
   "source": [
    "![title](PCA_w1.png)\n",
    "![title](PCA_w2.png)"
   ]
  },
  {
   "cell_type": "code",
   "execution_count": null,
   "metadata": {},
   "outputs": [],
   "source": []
  },
  {
   "cell_type": "code",
   "execution_count": 7,
   "metadata": {},
   "outputs": [],
   "source": [
    "df=D.copy()"
   ]
  },
  {
   "cell_type": "code",
   "execution_count": 8,
   "metadata": {},
   "outputs": [
    {
     "data": {
      "text/html": [
       "<div>\n",
       "<style scoped>\n",
       "    .dataframe tbody tr th:only-of-type {\n",
       "        vertical-align: middle;\n",
       "    }\n",
       "\n",
       "    .dataframe tbody tr th {\n",
       "        vertical-align: top;\n",
       "    }\n",
       "\n",
       "    .dataframe thead th {\n",
       "        text-align: right;\n",
       "    }\n",
       "</style>\n",
       "<table border=\"1\" class=\"dataframe\">\n",
       "  <thead>\n",
       "    <tr style=\"text-align: right;\">\n",
       "      <th></th>\n",
       "      <th>A</th>\n",
       "      <th>B</th>\n",
       "    </tr>\n",
       "  </thead>\n",
       "  <tbody>\n",
       "    <tr>\n",
       "      <th>0</th>\n",
       "      <td>-4.749628</td>\n",
       "      <td>-7.213088</td>\n",
       "    </tr>\n",
       "    <tr>\n",
       "      <th>1</th>\n",
       "      <td>-4.447294</td>\n",
       "      <td>-2.930557</td>\n",
       "    </tr>\n",
       "    <tr>\n",
       "      <th>2</th>\n",
       "      <td>-3.770890</td>\n",
       "      <td>-8.379793</td>\n",
       "    </tr>\n",
       "    <tr>\n",
       "      <th>3</th>\n",
       "      <td>-2.228772</td>\n",
       "      <td>-4.079550</td>\n",
       "    </tr>\n",
       "    <tr>\n",
       "      <th>4</th>\n",
       "      <td>-0.111646</td>\n",
       "      <td>0.652389</td>\n",
       "    </tr>\n",
       "  </tbody>\n",
       "</table>\n",
       "</div>"
      ],
      "text/plain": [
       "          A         B\n",
       "0 -4.749628 -7.213088\n",
       "1 -4.447294 -2.930557\n",
       "2 -3.770890 -8.379793\n",
       "3 -2.228772 -4.079550\n",
       "4 -0.111646  0.652389"
      ]
     },
     "execution_count": 8,
     "metadata": {},
     "output_type": "execute_result"
    }
   ],
   "source": [
    "df.head()"
   ]
  },
  {
   "cell_type": "markdown",
   "metadata": {},
   "source": [
    "__sklearn.decomposition.PCA__\n",
    "__=>__\n",
    "\n",
    "\n",
    "class <font color='red'> sklearn.decomposition.PCA(n_components=None, copy=True, whiten=False, svd_solver=’auto’, tol=0.0, iterated_power=’auto’, random_state=None)"
   ]
  },
  {
   "cell_type": "markdown",
   "metadata": {},
   "source": [
    "__Parameters:__\n",
    "- n_components : int, float\n",
    "    - Number of components to keep. if n_components is not set all components are kept:\n",
    "        __n_components == min(n_samples, n_features)__\n",
    "    - If __0 < n_components < 1__  select the number of components such that the\n",
    "         amount of variance that needs to be explained is greater than the percentage specified by n_components."
   ]
  },
  {
   "cell_type": "code",
   "execution_count": 17,
   "metadata": {},
   "outputs": [
    {
     "name": "stdout",
     "output_type": "stream",
     "text": [
      "[[ 8.7312351  -0.45497044]\n",
      " [ 4.88499745 -2.36230848]\n",
      " [ 9.24188662  0.97972914]\n",
      " ...\n",
      " [ 1.07332753 -0.1156213 ]\n",
      " [ 6.95924522 -0.19735891]\n",
      " [-5.47339455  1.3738369 ]]\n"
     ]
    }
   ],
   "source": [
    "from sklearn.decomposition import PCA\n",
    "\n",
    "pca=PCA()\n",
    "print(pca.fit_transform(df))"
   ]
  },
  {
   "cell_type": "markdown",
   "metadata": {},
   "source": [
    "<font color='red'>__PCA removes correlation__</font>\n",
    "\n",
    "__Principal Component explained variance ratio__"
   ]
  },
  {
   "cell_type": "code",
   "execution_count": 31,
   "metadata": {},
   "outputs": [
    {
     "data": {
      "text/plain": [
       "PCA(copy=True, iterated_power='auto', n_components=None, random_state=None,\n",
       "    svd_solver='auto', tol=0.0, whiten=False)"
      ]
     },
     "execution_count": 31,
     "metadata": {},
     "output_type": "execute_result"
    },
    {
     "name": "stdout",
     "output_type": "stream",
     "text": [
      "Variance ratio in eigen vectors=>\n",
      "[0.95588788 0.04411212]\n",
      "Eigen vectors found using PCA=>\n",
      "[[-0.50625797 -0.86238209]\n",
      " [ 0.86238209 -0.50625797]]\n",
      "Eigen vectors found using numpy and covariance matrix=>\n",
      "[[-0.86078997 -0.50896034]\n",
      " [ 0.50896034 -0.86078997]]\n"
     ]
    }
   ],
   "source": [
    "pca.fit(df)\n",
    "\n",
    "print(\"Variance ratio in eigen vectors=>\")\n",
    "print(pca.explained_variance_ratio_)\n",
    "print(\"Eigen vectors found using PCA=>\")\n",
    "print(pca.components_)\n",
    "print(\"Eigen vectors found using numpy and covariance matrix=>\")\n",
    "print(eigen_vecs)"
   ]
  },
  {
   "cell_type": "markdown",
   "metadata": {},
   "source": [
    "<font color='red'>Both procedures find the correct eigenvectors. The difference is in its representation. While PCA() lists the entries of an eigenvectors rowwise, np.linalg.eig() lists the entries of the eigenvectors columnwise. Remember that eigenvectors are only unique up to a sign.</font>"
   ]
  },
  {
   "cell_type": "markdown",
   "metadata": {},
   "source": [
    "__So Question is How many principal components to take__?"
   ]
  },
  {
   "cell_type": "markdown",
   "metadata": {},
   "source": [
    "To decide how many eigenvalues/eigenvectors to keep, you should consider your reason for doing PCA in the first place. Are you doing it for reducing storage requirements, to reduce dimensionality for a classification algorithm, or for some other reason? If you don't have any strict constraints, I recommend __plotting the cumulative sum of eigenvalues (assuming they are in descending order). If you divide each value by the total sum of eigenvalues prior to plotting, then your plot will show the fraction of total variance retained vs. number of eigenvalues. The plot will then provide a good indication of when you hit the point of diminishing returns (i.e., little variance is gained by retaining additional eigenvalues).__"
   ]
  },
  {
   "cell_type": "code",
   "execution_count": null,
   "metadata": {},
   "outputs": [],
   "source": []
  }
 ],
 "metadata": {
  "kernelspec": {
   "display_name": "Python 3",
   "language": "python",
   "name": "python3"
  },
  "language_info": {
   "codemirror_mode": {
    "name": "ipython",
    "version": 3
   },
   "file_extension": ".py",
   "mimetype": "text/x-python",
   "name": "python",
   "nbconvert_exporter": "python",
   "pygments_lexer": "ipython3",
   "version": "3.7.3"
  },
  "toc": {
   "base_numbering": 1,
   "nav_menu": {
    "height": "32px",
    "width": "160px"
   },
   "number_sections": true,
   "sideBar": true,
   "skip_h1_title": false,
   "title_cell": "Table of Contents",
   "title_sidebar": "Contents",
   "toc_cell": false,
   "toc_position": {},
   "toc_section_display": true,
   "toc_window_display": false
  },
  "varInspector": {
   "cols": {
    "lenName": 16,
    "lenType": 16,
    "lenVar": 40
   },
   "kernels_config": {
    "python": {
     "delete_cmd_postfix": "",
     "delete_cmd_prefix": "del ",
     "library": "var_list.py",
     "varRefreshCmd": "print(var_dic_list())"
    },
    "r": {
     "delete_cmd_postfix": ") ",
     "delete_cmd_prefix": "rm(",
     "library": "var_list.r",
     "varRefreshCmd": "cat(var_dic_list()) "
    }
   },
   "types_to_exclude": [
    "module",
    "function",
    "builtin_function_or_method",
    "instance",
    "_Feature"
   ],
   "window_display": false
  }
 },
 "nbformat": 4,
 "nbformat_minor": 2
}
