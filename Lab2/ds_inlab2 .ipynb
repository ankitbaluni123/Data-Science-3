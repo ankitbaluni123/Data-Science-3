{
 "cells": [
  {
   "cell_type": "markdown",
   "metadata": {},
   "source": [
    "# B18030 Tushar Goyal  B.Tech(CSE)"
   ]
  },
  {
   "cell_type": "code",
   "execution_count": 1,
   "metadata": {},
   "outputs": [],
   "source": [
    "import pandas as pd\n",
    "import matplotlib.pyplot as plt\n",
    "import numpy as np"
   ]
  },
  {
   "cell_type": "code",
   "execution_count": 2,
   "metadata": {},
   "outputs": [],
   "source": [
    "df=pd.read_csv(\"landslide_data2_miss.csv\")\n",
    "df_c=pd.read_csv(\"landslide_data2_miss.csv\")\n",
    "df_c2=pd.read_csv(\"landslide_data2_miss.csv\")\n",
    "dfv=pd.read_csv(\"landslide_data2_original.csv\")"
   ]
  },
  {
   "cell_type": "code",
   "execution_count": 3,
   "metadata": {},
   "outputs": [
    {
     "data": {
      "text/html": [
       "<div>\n",
       "<style scoped>\n",
       "    .dataframe tbody tr th:only-of-type {\n",
       "        vertical-align: middle;\n",
       "    }\n",
       "\n",
       "    .dataframe tbody tr th {\n",
       "        vertical-align: top;\n",
       "    }\n",
       "\n",
       "    .dataframe thead th {\n",
       "        text-align: right;\n",
       "    }\n",
       "</style>\n",
       "<table border=\"1\" class=\"dataframe\">\n",
       "  <thead>\n",
       "    <tr style=\"text-align: right;\">\n",
       "      <th></th>\n",
       "      <th>dates</th>\n",
       "      <th>stationid</th>\n",
       "      <th>dispx</th>\n",
       "      <th>dispy</th>\n",
       "      <th>dispz</th>\n",
       "      <th>temperature</th>\n",
       "      <th>humidity</th>\n",
       "      <th>rain</th>\n",
       "    </tr>\n",
       "  </thead>\n",
       "  <tbody>\n",
       "    <tr>\n",
       "      <th>0</th>\n",
       "      <td>08-07-2018</td>\n",
       "      <td>t10</td>\n",
       "      <td>0.000000</td>\n",
       "      <td>0.000000</td>\n",
       "      <td>0.000000</td>\n",
       "      <td>25.46875</td>\n",
       "      <td>82.18750</td>\n",
       "      <td>6.75</td>\n",
       "    </tr>\n",
       "    <tr>\n",
       "      <th>1</th>\n",
       "      <td>09-07-2018</td>\n",
       "      <td>t10</td>\n",
       "      <td>0.000000</td>\n",
       "      <td>0.000000</td>\n",
       "      <td>0.000000</td>\n",
       "      <td>26.19298</td>\n",
       "      <td>83.14912</td>\n",
       "      <td>1761.75</td>\n",
       "    </tr>\n",
       "    <tr>\n",
       "      <th>2</th>\n",
       "      <td>10-07-2018</td>\n",
       "      <td>t10</td>\n",
       "      <td>0.000000</td>\n",
       "      <td>0.000000</td>\n",
       "      <td>0.000000</td>\n",
       "      <td>25.17021</td>\n",
       "      <td>85.34043</td>\n",
       "      <td>652.50</td>\n",
       "    </tr>\n",
       "    <tr>\n",
       "      <th>3</th>\n",
       "      <td>11-07-2018</td>\n",
       "      <td>t10</td>\n",
       "      <td>-0.002835</td>\n",
       "      <td>0.003721</td>\n",
       "      <td>0.004961</td>\n",
       "      <td>NaN</td>\n",
       "      <td>87.68657</td>\n",
       "      <td>963.00</td>\n",
       "    </tr>\n",
       "    <tr>\n",
       "      <th>4</th>\n",
       "      <td>12-07-2018</td>\n",
       "      <td>t10</td>\n",
       "      <td>-0.002835</td>\n",
       "      <td>0.003721</td>\n",
       "      <td>0.004961</td>\n",
       "      <td>NaN</td>\n",
       "      <td>87.64615</td>\n",
       "      <td>254.25</td>\n",
       "    </tr>\n",
       "  </tbody>\n",
       "</table>\n",
       "</div>"
      ],
      "text/plain": [
       "        dates stationid     dispx     dispy     dispz  temperature  humidity  \\\n",
       "0  08-07-2018       t10  0.000000  0.000000  0.000000     25.46875  82.18750   \n",
       "1  09-07-2018       t10  0.000000  0.000000  0.000000     26.19298  83.14912   \n",
       "2  10-07-2018       t10  0.000000  0.000000  0.000000     25.17021  85.34043   \n",
       "3  11-07-2018       t10 -0.002835  0.003721  0.004961          NaN  87.68657   \n",
       "4  12-07-2018       t10 -0.002835  0.003721  0.004961          NaN  87.64615   \n",
       "\n",
       "      rain  \n",
       "0     6.75  \n",
       "1  1761.75  \n",
       "2   652.50  \n",
       "3   963.00  \n",
       "4   254.25  "
      ]
     },
     "execution_count": 3,
     "metadata": {},
     "output_type": "execute_result"
    }
   ],
   "source": [
    "df.head()"
   ]
  },
  {
   "cell_type": "code",
   "execution_count": 4,
   "metadata": {},
   "outputs": [
    {
     "data": {
      "text/plain": [
       "(945, 8)"
      ]
     },
     "execution_count": 4,
     "metadata": {},
     "output_type": "execute_result"
    }
   ],
   "source": [
    "df.shape"
   ]
  },
  {
   "cell_type": "code",
   "execution_count": 5,
   "metadata": {},
   "outputs": [
    {
     "data": {
      "text/plain": [
       "(945, 8)"
      ]
     },
     "execution_count": 5,
     "metadata": {},
     "output_type": "execute_result"
    }
   ],
   "source": [
    "dfv.shape"
   ]
  },
  {
   "cell_type": "code",
   "execution_count": 6,
   "metadata": {},
   "outputs": [],
   "source": [
    "col=list(df.columns)"
   ]
  },
  {
   "cell_type": "code",
   "execution_count": 7,
   "metadata": {},
   "outputs": [
    {
     "data": {
      "text/plain": [
       "['dates',\n",
       " 'stationid',\n",
       " 'dispx',\n",
       " 'dispy',\n",
       " 'dispz',\n",
       " 'temperature',\n",
       " 'humidity',\n",
       " 'rain']"
      ]
     },
     "execution_count": 7,
     "metadata": {},
     "output_type": "execute_result"
    }
   ],
   "source": [
    "col"
   ]
  },
  {
   "cell_type": "markdown",
   "metadata": {},
   "source": [
    "# How to count the NaN values in a column in pandas DataFrame?\n",
    "- We find number of NaN, so that if it is less than some threshold, we should drop that columns.\n",
    "## can use the isna() method (or it's alias isnull())\n",
    "\n",
    "### The isna method returns a DataFrame of all boolean values (True/False). "
   ]
  },
  {
   "cell_type": "code",
   "execution_count": 8,
   "metadata": {},
   "outputs": [],
   "source": [
    "arr={}\n",
    "for item in col:\n",
    "    arr[item]=[df[item].isna().sum()]"
   ]
  },
  {
   "cell_type": "code",
   "execution_count": 9,
   "metadata": {},
   "outputs": [
    {
     "data": {
      "text/plain": [
       "{'dates': [0],\n",
       " 'stationid': [22],\n",
       " 'dispx': [51],\n",
       " 'dispy': [51],\n",
       " 'dispz': [53],\n",
       " 'temperature': [45],\n",
       " 'humidity': [48],\n",
       " 'rain': [16]}"
      ]
     },
     "execution_count": 9,
     "metadata": {},
     "output_type": "execute_result"
    }
   ],
   "source": [
    "arr"
   ]
  },
  {
   "cell_type": "code",
   "execution_count": 10,
   "metadata": {},
   "outputs": [
    {
     "data": {
      "text/html": [
       "<div>\n",
       "<style scoped>\n",
       "    .dataframe tbody tr th:only-of-type {\n",
       "        vertical-align: middle;\n",
       "    }\n",
       "\n",
       "    .dataframe tbody tr th {\n",
       "        vertical-align: top;\n",
       "    }\n",
       "\n",
       "    .dataframe thead th {\n",
       "        text-align: right;\n",
       "    }\n",
       "</style>\n",
       "<table border=\"1\" class=\"dataframe\">\n",
       "  <thead>\n",
       "    <tr style=\"text-align: right;\">\n",
       "      <th></th>\n",
       "      <th>dates</th>\n",
       "      <th>stationid</th>\n",
       "      <th>dispx</th>\n",
       "      <th>dispy</th>\n",
       "      <th>dispz</th>\n",
       "      <th>temperature</th>\n",
       "      <th>humidity</th>\n",
       "      <th>rain</th>\n",
       "    </tr>\n",
       "  </thead>\n",
       "  <tbody>\n",
       "    <tr>\n",
       "      <th>0</th>\n",
       "      <td>0</td>\n",
       "      <td>22</td>\n",
       "      <td>51</td>\n",
       "      <td>51</td>\n",
       "      <td>53</td>\n",
       "      <td>45</td>\n",
       "      <td>48</td>\n",
       "      <td>16</td>\n",
       "    </tr>\n",
       "  </tbody>\n",
       "</table>\n",
       "</div>"
      ],
      "text/plain": [
       "   dates  stationid  dispx  dispy  dispz  temperature  humidity  rain\n",
       "0      0         22     51     51     53           45        48    16"
      ]
     },
     "execution_count": 10,
     "metadata": {},
     "output_type": "execute_result"
    }
   ],
   "source": [
    "pd.DataFrame(arr)"
   ]
  },
  {
   "cell_type": "code",
   "execution_count": 11,
   "metadata": {},
   "outputs": [],
   "source": [
    "df['countofnan']=df.isnull().sum(axis=1)"
   ]
  },
  {
   "cell_type": "code",
   "execution_count": 12,
   "metadata": {},
   "outputs": [
    {
     "data": {
      "text/html": [
       "<div>\n",
       "<style scoped>\n",
       "    .dataframe tbody tr th:only-of-type {\n",
       "        vertical-align: middle;\n",
       "    }\n",
       "\n",
       "    .dataframe tbody tr th {\n",
       "        vertical-align: top;\n",
       "    }\n",
       "\n",
       "    .dataframe thead th {\n",
       "        text-align: right;\n",
       "    }\n",
       "</style>\n",
       "<table border=\"1\" class=\"dataframe\">\n",
       "  <thead>\n",
       "    <tr style=\"text-align: right;\">\n",
       "      <th></th>\n",
       "      <th>dates</th>\n",
       "      <th>stationid</th>\n",
       "      <th>dispx</th>\n",
       "      <th>dispy</th>\n",
       "      <th>dispz</th>\n",
       "      <th>temperature</th>\n",
       "      <th>humidity</th>\n",
       "      <th>rain</th>\n",
       "      <th>countofnan</th>\n",
       "    </tr>\n",
       "  </thead>\n",
       "  <tbody>\n",
       "    <tr>\n",
       "      <th>0</th>\n",
       "      <td>08-07-2018</td>\n",
       "      <td>t10</td>\n",
       "      <td>0.000000</td>\n",
       "      <td>0.000000</td>\n",
       "      <td>0.000000</td>\n",
       "      <td>25.46875</td>\n",
       "      <td>82.18750</td>\n",
       "      <td>6.75</td>\n",
       "      <td>0</td>\n",
       "    </tr>\n",
       "    <tr>\n",
       "      <th>1</th>\n",
       "      <td>09-07-2018</td>\n",
       "      <td>t10</td>\n",
       "      <td>0.000000</td>\n",
       "      <td>0.000000</td>\n",
       "      <td>0.000000</td>\n",
       "      <td>26.19298</td>\n",
       "      <td>83.14912</td>\n",
       "      <td>1761.75</td>\n",
       "      <td>0</td>\n",
       "    </tr>\n",
       "    <tr>\n",
       "      <th>2</th>\n",
       "      <td>10-07-2018</td>\n",
       "      <td>t10</td>\n",
       "      <td>0.000000</td>\n",
       "      <td>0.000000</td>\n",
       "      <td>0.000000</td>\n",
       "      <td>25.17021</td>\n",
       "      <td>85.34043</td>\n",
       "      <td>652.50</td>\n",
       "      <td>0</td>\n",
       "    </tr>\n",
       "    <tr>\n",
       "      <th>3</th>\n",
       "      <td>11-07-2018</td>\n",
       "      <td>t10</td>\n",
       "      <td>-0.002835</td>\n",
       "      <td>0.003721</td>\n",
       "      <td>0.004961</td>\n",
       "      <td>NaN</td>\n",
       "      <td>87.68657</td>\n",
       "      <td>963.00</td>\n",
       "      <td>1</td>\n",
       "    </tr>\n",
       "    <tr>\n",
       "      <th>4</th>\n",
       "      <td>12-07-2018</td>\n",
       "      <td>t10</td>\n",
       "      <td>-0.002835</td>\n",
       "      <td>0.003721</td>\n",
       "      <td>0.004961</td>\n",
       "      <td>NaN</td>\n",
       "      <td>87.64615</td>\n",
       "      <td>254.25</td>\n",
       "      <td>1</td>\n",
       "    </tr>\n",
       "  </tbody>\n",
       "</table>\n",
       "</div>"
      ],
      "text/plain": [
       "        dates stationid     dispx     dispy     dispz  temperature  humidity  \\\n",
       "0  08-07-2018       t10  0.000000  0.000000  0.000000     25.46875  82.18750   \n",
       "1  09-07-2018       t10  0.000000  0.000000  0.000000     26.19298  83.14912   \n",
       "2  10-07-2018       t10  0.000000  0.000000  0.000000     25.17021  85.34043   \n",
       "3  11-07-2018       t10 -0.002835  0.003721  0.004961          NaN  87.68657   \n",
       "4  12-07-2018       t10 -0.002835  0.003721  0.004961          NaN  87.64615   \n",
       "\n",
       "      rain  countofnan  \n",
       "0     6.75           0  \n",
       "1  1761.75           0  \n",
       "2   652.50           0  \n",
       "3   963.00           1  \n",
       "4   254.25           1  "
      ]
     },
     "execution_count": 12,
     "metadata": {},
     "output_type": "execute_result"
    }
   ],
   "source": [
    "df.head()"
   ]
  },
  {
   "cell_type": "code",
   "execution_count": 13,
   "metadata": {},
   "outputs": [
    {
     "name": "stdout",
     "output_type": "stream",
     "text": [
      "[0 1 2 3 4 5 6] [798  87  25  10  10  11   4]\n"
     ]
    }
   ],
   "source": [
    "unique_miss_values,count=np.unique(df.countofnan,return_counts=True)\n",
    "print(unique_miss_values,count)"
   ]
  },
  {
   "cell_type": "code",
   "execution_count": 14,
   "metadata": {},
   "outputs": [
    {
     "data": {
      "text/plain": [
       "Text(0, 0.5, 'Number of corresponding tuples =>')"
      ]
     },
     "execution_count": 14,
     "metadata": {},
     "output_type": "execute_result"
    },
    {
     "data": {
      "image/png": "[encoded data removed]",
      "text/plain": [
       "<Figure size 432x288 with 1 Axes>"
      ]
     },
     "metadata": {
      "needs_background": "light"
     },
     "output_type": "display_data"
    }
   ],
   "source": [
    "plt.bar(unique_miss_values[1:],count[1:])\n",
    "plt.xlabel(\"Number of unique missing values =>\",fontweight='bold')\n",
    "plt.ylabel(\"Number of corresponding tuples =>\",fontweight='bold')"
   ]
  },
  {
   "cell_type": "code",
   "execution_count": 15,
   "metadata": {},
   "outputs": [],
   "source": [
    "to_drop=df[df.countofnan>=4].index"
   ]
  },
  {
   "cell_type": "code",
   "execution_count": 16,
   "metadata": {},
   "outputs": [
    {
     "data": {
      "text/plain": [
       "Int64Index([ 41,  42,  43,  44,  45, 158, 159, 172, 184, 189, 207, 208, 209,\n",
       "            233, 366, 367, 368, 369, 638, 651, 688, 694, 833, 939, 940],\n",
       "           dtype='int64')"
      ]
     },
     "execution_count": 16,
     "metadata": {},
     "output_type": "execute_result"
    }
   ],
   "source": [
    "to_drop"
   ]
  },
  {
   "cell_type": "markdown",
   "metadata": {},
   "source": [
    "### Removing rows/columns from a DataFrame\n",
    "#### We can remove a row or a column using the .drop() function. In doing this, we have to specify the axis=0 for row, and axis=1 for column.\n",
    "- It is important to note that Pandas does not permanently drop a row/column whenever you use the .drop() method unless you tell it to do so. This is so because Pandas doesn’t want you to accidentally loose your data.\n",
    "- To permanently delete a row/column, you have to set inplace=True ."
   ]
  },
  {
   "cell_type": "code",
   "execution_count": 17,
   "metadata": {},
   "outputs": [],
   "source": [
    "df.drop(to_drop,inplace=True)\n",
    "dfv.drop(to_drop,inplace=True)"
   ]
  },
  {
   "cell_type": "code",
   "execution_count": 18,
   "metadata": {},
   "outputs": [
    {
     "data": {
      "text/plain": [
       "Int64Index([], dtype='int64')"
      ]
     },
     "execution_count": 18,
     "metadata": {},
     "output_type": "execute_result"
    }
   ],
   "source": [
    "df[df.countofnan>=6].index"
   ]
  },
  {
   "cell_type": "code",
   "execution_count": 19,
   "metadata": {},
   "outputs": [
    {
     "name": "stdout",
     "output_type": "stream",
     "text": [
      "(920, 9)\n"
     ]
    }
   ],
   "source": [
    "print(df.shape)"
   ]
  },
  {
   "cell_type": "code",
   "execution_count": 20,
   "metadata": {},
   "outputs": [
    {
     "name": "stdout",
     "output_type": "stream",
     "text": [
      "(920, 8)\n"
     ]
    }
   ],
   "source": [
    "print(dfv.shape)"
   ]
  },
  {
   "cell_type": "markdown",
   "metadata": {},
   "source": [
    "##### Missing Data\n",
    "A lot of times, when you’re using Pandas to read-in data and there are missing points, Pandas will automatically fill-in those missing points with a NaN or Null value. Hence, __we can either drop those auto-filled values using .dropna() or fill them using.fillna().__\n",
    "- df.dropna() without any parameter  #drop all rows that have any NaN values\n",
    "- Using .dropna() method, we are telling Pandas to drop any row or column with one or more missing values. To drop a row, use.dropna(axis=0) and .dropna(axis=1) to drop a column.\n",
    "- Note that if you do not specify the axis, Pandas assumes you are dropping a row by default"
   ]
  },
  {
   "cell_type": "markdown",
   "metadata": {},
   "source": [
    "__here are the parameters you can include in dropna:__\n",
    "\n",
    "- Axis: Specifies to drop by row or column. 0 means row, 1 means column.\n",
    "- How: Accepts one of two possible values: any or all. This will either drop an axis which is completely empty (all), or an axis with even just a single empty cell (any).\n",
    "- Thresh: Here's an interesting one: thresh accepts an integer, and will drop an axis only if that number threshold of empty cells is breached.\n",
    "- Subset: Accepts an array of which axis' to consider, as opposed to considering all by default.\n",
    "- Inplace: If you haven't come across inplace yet, learn this now: changes will NOT be made to the DataFrame you're touching unless this is set to True. It's False by default."
   ]
  },
  {
   "cell_type": "code",
   "execution_count": 21,
   "metadata": {},
   "outputs": [],
   "source": [
    "ind=df['stationid'][df.stationid.isnull()].index"
   ]
  },
  {
   "cell_type": "code",
   "execution_count": 22,
   "metadata": {},
   "outputs": [],
   "source": [
    "df.drop(ind,inplace=True)\n",
    "dfv.drop(ind,inplace=True)"
   ]
  },
  {
   "cell_type": "code",
   "execution_count": 23,
   "metadata": {},
   "outputs": [],
   "source": [
    "df=df.drop('countofnan',axis=1)"
   ]
  },
  {
   "cell_type": "code",
   "execution_count": 24,
   "metadata": {},
   "outputs": [],
   "source": [
    "df_ad=df.copy()\n",
    "df_t1=df.copy()\n",
    "df_t2=df.copy()\n",
    "df_t3=df.copy()"
   ]
  },
  {
   "cell_type": "code",
   "execution_count": 25,
   "metadata": {},
   "outputs": [
    {
     "data": {
      "text/plain": [
       "(898, 8)"
      ]
     },
     "execution_count": 25,
     "metadata": {},
     "output_type": "execute_result"
    }
   ],
   "source": [
    "df.shape"
   ]
  },
  {
   "cell_type": "code",
   "execution_count": 26,
   "metadata": {},
   "outputs": [
    {
     "data": {
      "text/plain": [
       "(898, 8)"
      ]
     },
     "execution_count": 26,
     "metadata": {},
     "output_type": "execute_result"
    }
   ],
   "source": [
    "dfv.shape"
   ]
  },
  {
   "cell_type": "markdown",
   "metadata": {},
   "source": [
    "## df.dropna(subset=['quality'],inplace=True)"
   ]
  },
  {
   "cell_type": "code",
   "execution_count": 27,
   "metadata": {},
   "outputs": [],
   "source": [
    "arr2={}\n",
    "for item in col:\n",
    "    arr2[item]=[df[item].isna().sum()]"
   ]
  },
  {
   "cell_type": "code",
   "execution_count": 28,
   "metadata": {},
   "outputs": [
    {
     "data": {
      "text/html": [
       "<div>\n",
       "<style scoped>\n",
       "    .dataframe tbody tr th:only-of-type {\n",
       "        vertical-align: middle;\n",
       "    }\n",
       "\n",
       "    .dataframe tbody tr th {\n",
       "        vertical-align: top;\n",
       "    }\n",
       "\n",
       "    .dataframe thead th {\n",
       "        text-align: right;\n",
       "    }\n",
       "</style>\n",
       "<table border=\"1\" class=\"dataframe\">\n",
       "  <thead>\n",
       "    <tr style=\"text-align: right;\">\n",
       "      <th></th>\n",
       "      <th>dates</th>\n",
       "      <th>stationid</th>\n",
       "      <th>dispx</th>\n",
       "      <th>dispy</th>\n",
       "      <th>dispz</th>\n",
       "      <th>temperature</th>\n",
       "      <th>humidity</th>\n",
       "      <th>rain</th>\n",
       "    </tr>\n",
       "  </thead>\n",
       "  <tbody>\n",
       "    <tr>\n",
       "      <th>0</th>\n",
       "      <td>0</td>\n",
       "      <td>0</td>\n",
       "      <td>33</td>\n",
       "      <td>27</td>\n",
       "      <td>29</td>\n",
       "      <td>20</td>\n",
       "      <td>29</td>\n",
       "      <td>4</td>\n",
       "    </tr>\n",
       "  </tbody>\n",
       "</table>\n",
       "</div>"
      ],
      "text/plain": [
       "   dates  stationid  dispx  dispy  dispz  temperature  humidity  rain\n",
       "0      0          0     33     27     29           20        29     4"
      ]
     },
     "execution_count": 28,
     "metadata": {},
     "output_type": "execute_result"
    }
   ],
   "source": [
    "pd.DataFrame(arr2)"
   ]
  },
  {
   "cell_type": "code",
   "execution_count": 29,
   "metadata": {},
   "outputs": [
    {
     "data": {
      "text/plain": [
       "142"
      ]
     },
     "execution_count": 29,
     "metadata": {},
     "output_type": "execute_result"
    }
   ],
   "source": [
    "df.isna().sum().sum()"
   ]
  },
  {
   "cell_type": "code",
   "execution_count": 30,
   "metadata": {},
   "outputs": [],
   "source": [
    "for item in col[2:]:\n",
    "    df[item].fillna(df[item].median(),inplace=True)\n",
    "# df['countofnan']=df.isnull().sum(axis=1)"
   ]
  },
  {
   "cell_type": "code",
   "execution_count": 31,
   "metadata": {},
   "outputs": [
    {
     "data": {
      "text/html": [
       "<div>\n",
       "<style scoped>\n",
       "    .dataframe tbody tr th:only-of-type {\n",
       "        vertical-align: middle;\n",
       "    }\n",
       "\n",
       "    .dataframe tbody tr th {\n",
       "        vertical-align: top;\n",
       "    }\n",
       "\n",
       "    .dataframe thead th {\n",
       "        text-align: right;\n",
       "    }\n",
       "</style>\n",
       "<table border=\"1\" class=\"dataframe\">\n",
       "  <thead>\n",
       "    <tr style=\"text-align: right;\">\n",
       "      <th></th>\n",
       "      <th>dates</th>\n",
       "      <th>stationid</th>\n",
       "      <th>dispx</th>\n",
       "      <th>dispy</th>\n",
       "      <th>dispz</th>\n",
       "      <th>temperature</th>\n",
       "      <th>humidity</th>\n",
       "      <th>rain</th>\n",
       "    </tr>\n",
       "  </thead>\n",
       "  <tbody>\n",
       "    <tr>\n",
       "      <th>0</th>\n",
       "      <td>08-07-2018</td>\n",
       "      <td>t10</td>\n",
       "      <td>0.000000</td>\n",
       "      <td>0.000000</td>\n",
       "      <td>0.000000</td>\n",
       "      <td>25.46875</td>\n",
       "      <td>82.18750</td>\n",
       "      <td>6.75</td>\n",
       "    </tr>\n",
       "    <tr>\n",
       "      <th>1</th>\n",
       "      <td>09-07-2018</td>\n",
       "      <td>t10</td>\n",
       "      <td>0.000000</td>\n",
       "      <td>0.000000</td>\n",
       "      <td>0.000000</td>\n",
       "      <td>26.19298</td>\n",
       "      <td>83.14912</td>\n",
       "      <td>1761.75</td>\n",
       "    </tr>\n",
       "    <tr>\n",
       "      <th>2</th>\n",
       "      <td>10-07-2018</td>\n",
       "      <td>t10</td>\n",
       "      <td>0.000000</td>\n",
       "      <td>0.000000</td>\n",
       "      <td>0.000000</td>\n",
       "      <td>25.17021</td>\n",
       "      <td>85.34043</td>\n",
       "      <td>652.50</td>\n",
       "    </tr>\n",
       "    <tr>\n",
       "      <th>3</th>\n",
       "      <td>11-07-2018</td>\n",
       "      <td>t10</td>\n",
       "      <td>-0.002835</td>\n",
       "      <td>0.003721</td>\n",
       "      <td>0.004961</td>\n",
       "      <td>22.26757</td>\n",
       "      <td>87.68657</td>\n",
       "      <td>963.00</td>\n",
       "    </tr>\n",
       "    <tr>\n",
       "      <th>4</th>\n",
       "      <td>12-07-2018</td>\n",
       "      <td>t10</td>\n",
       "      <td>-0.002835</td>\n",
       "      <td>0.003721</td>\n",
       "      <td>0.004961</td>\n",
       "      <td>22.26757</td>\n",
       "      <td>87.64615</td>\n",
       "      <td>254.25</td>\n",
       "    </tr>\n",
       "  </tbody>\n",
       "</table>\n",
       "</div>"
      ],
      "text/plain": [
       "        dates stationid     dispx     dispy     dispz  temperature  humidity  \\\n",
       "0  08-07-2018       t10  0.000000  0.000000  0.000000     25.46875  82.18750   \n",
       "1  09-07-2018       t10  0.000000  0.000000  0.000000     26.19298  83.14912   \n",
       "2  10-07-2018       t10  0.000000  0.000000  0.000000     25.17021  85.34043   \n",
       "3  11-07-2018       t10 -0.002835  0.003721  0.004961     22.26757  87.68657   \n",
       "4  12-07-2018       t10 -0.002835  0.003721  0.004961     22.26757  87.64615   \n",
       "\n",
       "      rain  \n",
       "0     6.75  \n",
       "1  1761.75  \n",
       "2   652.50  \n",
       "3   963.00  \n",
       "4   254.25  "
      ]
     },
     "execution_count": 31,
     "metadata": {},
     "output_type": "execute_result"
    }
   ],
   "source": [
    "df.head()"
   ]
  },
  {
   "cell_type": "code",
   "execution_count": 32,
   "metadata": {},
   "outputs": [],
   "source": [
    "dfo=pd.read_csv('landslide_data2_original.csv')"
   ]
  },
  {
   "cell_type": "code",
   "execution_count": 33,
   "metadata": {},
   "outputs": [
    {
     "data": {
      "text/html": [
       "<div>\n",
       "<style scoped>\n",
       "    .dataframe tbody tr th:only-of-type {\n",
       "        vertical-align: middle;\n",
       "    }\n",
       "\n",
       "    .dataframe tbody tr th {\n",
       "        vertical-align: top;\n",
       "    }\n",
       "\n",
       "    .dataframe thead th {\n",
       "        text-align: right;\n",
       "    }\n",
       "</style>\n",
       "<table border=\"1\" class=\"dataframe\">\n",
       "  <thead>\n",
       "    <tr style=\"text-align: right;\">\n",
       "      <th></th>\n",
       "      <th>dates</th>\n",
       "      <th>stationid</th>\n",
       "      <th>dispx</th>\n",
       "      <th>dispy</th>\n",
       "      <th>dispz</th>\n",
       "      <th>temperature</th>\n",
       "      <th>humidity</th>\n",
       "      <th>rain</th>\n",
       "    </tr>\n",
       "  </thead>\n",
       "  <tbody>\n",
       "    <tr>\n",
       "      <th>0</th>\n",
       "      <td>08-07-2018</td>\n",
       "      <td>t10</td>\n",
       "      <td>0.000000</td>\n",
       "      <td>0.000000</td>\n",
       "      <td>0.000000</td>\n",
       "      <td>25.46875</td>\n",
       "      <td>82.18750</td>\n",
       "      <td>6.75</td>\n",
       "    </tr>\n",
       "    <tr>\n",
       "      <th>1</th>\n",
       "      <td>09-07-2018</td>\n",
       "      <td>t10</td>\n",
       "      <td>0.000000</td>\n",
       "      <td>0.000000</td>\n",
       "      <td>0.000000</td>\n",
       "      <td>26.19298</td>\n",
       "      <td>83.14912</td>\n",
       "      <td>1761.75</td>\n",
       "    </tr>\n",
       "    <tr>\n",
       "      <th>2</th>\n",
       "      <td>10-07-2018</td>\n",
       "      <td>t10</td>\n",
       "      <td>0.000000</td>\n",
       "      <td>0.000000</td>\n",
       "      <td>0.000000</td>\n",
       "      <td>25.17021</td>\n",
       "      <td>85.34043</td>\n",
       "      <td>652.50</td>\n",
       "    </tr>\n",
       "    <tr>\n",
       "      <th>3</th>\n",
       "      <td>11-07-2018</td>\n",
       "      <td>t10</td>\n",
       "      <td>-0.002835</td>\n",
       "      <td>0.003721</td>\n",
       "      <td>0.004961</td>\n",
       "      <td>24.29851</td>\n",
       "      <td>87.68657</td>\n",
       "      <td>963.00</td>\n",
       "    </tr>\n",
       "    <tr>\n",
       "      <th>4</th>\n",
       "      <td>12-07-2018</td>\n",
       "      <td>t10</td>\n",
       "      <td>-0.002835</td>\n",
       "      <td>0.003721</td>\n",
       "      <td>0.004961</td>\n",
       "      <td>24.06923</td>\n",
       "      <td>87.64615</td>\n",
       "      <td>254.25</td>\n",
       "    </tr>\n",
       "  </tbody>\n",
       "</table>\n",
       "</div>"
      ],
      "text/plain": [
       "        dates stationid     dispx     dispy     dispz  temperature  humidity  \\\n",
       "0  08-07-2018       t10  0.000000  0.000000  0.000000     25.46875  82.18750   \n",
       "1  09-07-2018       t10  0.000000  0.000000  0.000000     26.19298  83.14912   \n",
       "2  10-07-2018       t10  0.000000  0.000000  0.000000     25.17021  85.34043   \n",
       "3  11-07-2018       t10 -0.002835  0.003721  0.004961     24.29851  87.68657   \n",
       "4  12-07-2018       t10 -0.002835  0.003721  0.004961     24.06923  87.64615   \n",
       "\n",
       "      rain  \n",
       "0     6.75  \n",
       "1  1761.75  \n",
       "2   652.50  \n",
       "3   963.00  \n",
       "4   254.25  "
      ]
     },
     "execution_count": 33,
     "metadata": {},
     "output_type": "execute_result"
    }
   ],
   "source": [
    "dfo.head()"
   ]
  },
  {
   "cell_type": "code",
   "execution_count": 34,
   "metadata": {},
   "outputs": [
    {
     "data": {
      "text/plain": [
       "<matplotlib.axes._subplots.AxesSubplot at 0x7f664504c400>"
      ]
     },
     "execution_count": 34,
     "metadata": {},
     "output_type": "execute_result"
    },
    {
     "data": {
      "image/png": "[encoded data removed]",
      "text/plain": [
       "<Figure size 432x288 with 1 Axes>"
      ]
     },
     "metadata": {
      "needs_background": "light"
     },
     "output_type": "display_data"
    }
   ],
   "source": [
    "dfo.boxplot(column=['dispx'])"
   ]
  },
  {
   "cell_type": "code",
   "execution_count": 35,
   "metadata": {},
   "outputs": [
    {
     "data": {
      "text/plain": [
       "<matplotlib.axes._subplots.AxesSubplot at 0x7f664501cbe0>"
      ]
     },
     "execution_count": 35,
     "metadata": {},
     "output_type": "execute_result"
    },
    {
     "data": {
      "image/png": "[encoded data removed]",
      "text/plain": [
       "<Figure size 432x288 with 1 Axes>"
      ]
     },
     "metadata": {
      "needs_background": "light"
     },
     "output_type": "display_data"
    }
   ],
   "source": [
    "df.boxplot(column=['dispx'])"
   ]
  },
  {
   "cell_type": "code",
   "execution_count": 36,
   "metadata": {},
   "outputs": [
    {
     "data": {
      "image/png": "[encoded data removed]",
      "text/plain": [
       "<Figure size 432x288 with 1 Axes>"
      ]
     },
     "metadata": {
      "needs_background": "light"
     },
     "output_type": "display_data"
    },
    {
     "data": {
      "image/png": "[encoded data removed]",
      "text/plain": [
       "<Figure size 432x288 with 1 Axes>"
      ]
     },
     "metadata": {
      "needs_background": "light"
     },
     "output_type": "display_data"
    },
    {
     "data": {
      "image/png": "[encoded data removed]",
      "text/plain": [
       "<Figure size 432x288 with 1 Axes>"
      ]
     },
     "metadata": {
      "needs_background": "light"
     },
     "output_type": "display_data"
    },
    {
     "data": {
      "image/png": "[encoded data removed]",
      "text/plain": [
       "<Figure size 432x288 with 1 Axes>"
      ]
     },
     "metadata": {
      "needs_background": "light"
     },
     "output_type": "display_data"
    },
    {
     "data": {
      "image/png": "[encoded data removed]",
      "text/plain": [
       "<Figure size 432x288 with 1 Axes>"
      ]
     },
     "metadata": {
      "needs_background": "light"
     },
     "output_type": "display_data"
    },
    {
     "data": {
      "image/png": "[encoded data removed]",
      "text/plain": [
       "<Figure size 432x288 with 1 Axes>"
      ]
     },
     "metadata": {
      "needs_background": "light"
     },
     "output_type": "display_data"
    }
   ],
   "source": [
    "for att in col[2:]:\n",
    "    plt.boxplot([df[att],dfo[att]])\n",
    "    plt.title('Boxplot for the Attribute '+att)\n",
    "    plt.show()\n",
    "    "
   ]
  },
  {
   "cell_type": "code",
   "execution_count": 37,
   "metadata": {},
   "outputs": [
    {
     "data": {
      "text/html": [
       "<div>\n",
       "<style scoped>\n",
       "    .dataframe tbody tr th:only-of-type {\n",
       "        vertical-align: middle;\n",
       "    }\n",
       "\n",
       "    .dataframe tbody tr th {\n",
       "        vertical-align: top;\n",
       "    }\n",
       "\n",
       "    .dataframe thead th {\n",
       "        text-align: right;\n",
       "    }\n",
       "</style>\n",
       "<table border=\"1\" class=\"dataframe\">\n",
       "  <thead>\n",
       "    <tr style=\"text-align: right;\">\n",
       "      <th></th>\n",
       "      <th>dispx</th>\n",
       "      <th>dispy</th>\n",
       "      <th>dispz</th>\n",
       "      <th>temperature</th>\n",
       "      <th>humidity</th>\n",
       "      <th>rain</th>\n",
       "    </tr>\n",
       "  </thead>\n",
       "  <tbody>\n",
       "    <tr>\n",
       "      <th>mean</th>\n",
       "      <td>-0.838917</td>\n",
       "      <td>1.148107</td>\n",
       "      <td>0.687709</td>\n",
       "      <td>21.214888</td>\n",
       "      <td>83.479932</td>\n",
       "      <td>10701.538370</td>\n",
       "    </tr>\n",
       "    <tr>\n",
       "      <th>median</th>\n",
       "      <td>-0.141613</td>\n",
       "      <td>0.030477</td>\n",
       "      <td>-0.172586</td>\n",
       "      <td>22.272730</td>\n",
       "      <td>91.380950</td>\n",
       "      <td>18.000000</td>\n",
       "    </tr>\n",
       "    <tr>\n",
       "      <th>std</th>\n",
       "      <td>2.892552</td>\n",
       "      <td>2.652794</td>\n",
       "      <td>2.630815</td>\n",
       "      <td>4.355818</td>\n",
       "      <td>18.210065</td>\n",
       "      <td>24852.255288</td>\n",
       "    </tr>\n",
       "  </tbody>\n",
       "</table>\n",
       "</div>"
      ],
      "text/plain": [
       "           dispx     dispy     dispz  temperature   humidity          rain\n",
       "mean   -0.838917  1.148107  0.687709    21.214888  83.479932  10701.538370\n",
       "median -0.141613  0.030477 -0.172586    22.272730  91.380950     18.000000\n",
       "std     2.892552  2.652794  2.630815     4.355818  18.210065  24852.255288"
      ]
     },
     "execution_count": 37,
     "metadata": {},
     "output_type": "execute_result"
    }
   ],
   "source": [
    "dfo_describe=dfo.agg(['mean','median','std'])\n",
    "dfo_describe"
   ]
  },
  {
   "cell_type": "code",
   "execution_count": 38,
   "metadata": {},
   "outputs": [
    {
     "data": {
      "text/html": [
       "<div>\n",
       "<style scoped>\n",
       "    .dataframe tbody tr th:only-of-type {\n",
       "        vertical-align: middle;\n",
       "    }\n",
       "\n",
       "    .dataframe tbody tr th {\n",
       "        vertical-align: top;\n",
       "    }\n",
       "\n",
       "    .dataframe thead th {\n",
       "        text-align: right;\n",
       "    }\n",
       "</style>\n",
       "<table border=\"1\" class=\"dataframe\">\n",
       "  <thead>\n",
       "    <tr style=\"text-align: right;\">\n",
       "      <th></th>\n",
       "      <th>dispx</th>\n",
       "      <th>dispy</th>\n",
       "      <th>dispz</th>\n",
       "      <th>temperature</th>\n",
       "      <th>humidity</th>\n",
       "      <th>rain</th>\n",
       "    </tr>\n",
       "  </thead>\n",
       "  <tbody>\n",
       "    <tr>\n",
       "      <th>mean</th>\n",
       "      <td>-0.820205</td>\n",
       "      <td>1.132392</td>\n",
       "      <td>0.657865</td>\n",
       "      <td>21.225027</td>\n",
       "      <td>83.853340</td>\n",
       "      <td>10445.724677</td>\n",
       "    </tr>\n",
       "    <tr>\n",
       "      <th>median</th>\n",
       "      <td>-0.141613</td>\n",
       "      <td>0.032426</td>\n",
       "      <td>-0.219011</td>\n",
       "      <td>22.267570</td>\n",
       "      <td>91.341880</td>\n",
       "      <td>15.750000</td>\n",
       "    </tr>\n",
       "    <tr>\n",
       "      <th>std</th>\n",
       "      <td>2.879592</td>\n",
       "      <td>2.638225</td>\n",
       "      <td>2.611836</td>\n",
       "      <td>4.314868</td>\n",
       "      <td>17.774149</td>\n",
       "      <td>24554.577405</td>\n",
       "    </tr>\n",
       "  </tbody>\n",
       "</table>\n",
       "</div>"
      ],
      "text/plain": [
       "           dispx     dispy     dispz  temperature   humidity          rain\n",
       "mean   -0.820205  1.132392  0.657865    21.225027  83.853340  10445.724677\n",
       "median -0.141613  0.032426 -0.219011    22.267570  91.341880     15.750000\n",
       "std     2.879592  2.638225  2.611836     4.314868  17.774149  24554.577405"
      ]
     },
     "execution_count": 38,
     "metadata": {},
     "output_type": "execute_result"
    }
   ],
   "source": [
    "df_describe=df.agg(['mean','median','std'])\n",
    "df_describe"
   ]
  },
  {
   "cell_type": "markdown",
   "metadata": {},
   "source": [
    "### How to replace NaNs by preceding values in pandas DataFrame?\n",
    "- __You could use the fillna method on the DataFrame and specify the method as ffill (forward fill):__\n",
    "- This method doesn't modify the DataFrame inplace - you'll need to rebind the returned DataFrame to a variable or else specify inplace=True:\n",
    "\n"
   ]
  },
  {
   "cell_type": "code",
   "execution_count": 39,
   "metadata": {},
   "outputs": [],
   "source": [
    "for item in col[2:]:\n",
    "    df_c[item].fillna(method='ffill',inplace=True)"
   ]
  },
  {
   "cell_type": "code",
   "execution_count": 40,
   "metadata": {},
   "outputs": [
    {
     "data": {
      "text/html": [
       "<div>\n",
       "<style scoped>\n",
       "    .dataframe tbody tr th:only-of-type {\n",
       "        vertical-align: middle;\n",
       "    }\n",
       "\n",
       "    .dataframe tbody tr th {\n",
       "        vertical-align: top;\n",
       "    }\n",
       "\n",
       "    .dataframe thead th {\n",
       "        text-align: right;\n",
       "    }\n",
       "</style>\n",
       "<table border=\"1\" class=\"dataframe\">\n",
       "  <thead>\n",
       "    <tr style=\"text-align: right;\">\n",
       "      <th></th>\n",
       "      <th>dates</th>\n",
       "      <th>stationid</th>\n",
       "      <th>dispx</th>\n",
       "      <th>dispy</th>\n",
       "      <th>dispz</th>\n",
       "      <th>temperature</th>\n",
       "      <th>humidity</th>\n",
       "      <th>rain</th>\n",
       "    </tr>\n",
       "  </thead>\n",
       "  <tbody>\n",
       "    <tr>\n",
       "      <th>0</th>\n",
       "      <td>08-07-2018</td>\n",
       "      <td>t10</td>\n",
       "      <td>0.000000</td>\n",
       "      <td>0.000000</td>\n",
       "      <td>0.000000</td>\n",
       "      <td>25.46875</td>\n",
       "      <td>82.18750</td>\n",
       "      <td>6.75</td>\n",
       "    </tr>\n",
       "    <tr>\n",
       "      <th>1</th>\n",
       "      <td>09-07-2018</td>\n",
       "      <td>t10</td>\n",
       "      <td>0.000000</td>\n",
       "      <td>0.000000</td>\n",
       "      <td>0.000000</td>\n",
       "      <td>26.19298</td>\n",
       "      <td>83.14912</td>\n",
       "      <td>1761.75</td>\n",
       "    </tr>\n",
       "    <tr>\n",
       "      <th>2</th>\n",
       "      <td>10-07-2018</td>\n",
       "      <td>t10</td>\n",
       "      <td>0.000000</td>\n",
       "      <td>0.000000</td>\n",
       "      <td>0.000000</td>\n",
       "      <td>25.17021</td>\n",
       "      <td>85.34043</td>\n",
       "      <td>652.50</td>\n",
       "    </tr>\n",
       "    <tr>\n",
       "      <th>3</th>\n",
       "      <td>11-07-2018</td>\n",
       "      <td>t10</td>\n",
       "      <td>-0.002835</td>\n",
       "      <td>0.003721</td>\n",
       "      <td>0.004961</td>\n",
       "      <td>25.17021</td>\n",
       "      <td>87.68657</td>\n",
       "      <td>963.00</td>\n",
       "    </tr>\n",
       "    <tr>\n",
       "      <th>4</th>\n",
       "      <td>12-07-2018</td>\n",
       "      <td>t10</td>\n",
       "      <td>-0.002835</td>\n",
       "      <td>0.003721</td>\n",
       "      <td>0.004961</td>\n",
       "      <td>25.17021</td>\n",
       "      <td>87.64615</td>\n",
       "      <td>254.25</td>\n",
       "    </tr>\n",
       "  </tbody>\n",
       "</table>\n",
       "</div>"
      ],
      "text/plain": [
       "        dates stationid     dispx     dispy     dispz  temperature  humidity  \\\n",
       "0  08-07-2018       t10  0.000000  0.000000  0.000000     25.46875  82.18750   \n",
       "1  09-07-2018       t10  0.000000  0.000000  0.000000     26.19298  83.14912   \n",
       "2  10-07-2018       t10  0.000000  0.000000  0.000000     25.17021  85.34043   \n",
       "3  11-07-2018       t10 -0.002835  0.003721  0.004961     25.17021  87.68657   \n",
       "4  12-07-2018       t10 -0.002835  0.003721  0.004961     25.17021  87.64615   \n",
       "\n",
       "      rain  \n",
       "0     6.75  \n",
       "1  1761.75  \n",
       "2   652.50  \n",
       "3   963.00  \n",
       "4   254.25  "
      ]
     },
     "execution_count": 40,
     "metadata": {},
     "output_type": "execute_result"
    }
   ],
   "source": [
    "df_c.head()"
   ]
  },
  {
   "cell_type": "code",
   "execution_count": 41,
   "metadata": {},
   "outputs": [
    {
     "data": {
      "text/html": [
       "<div>\n",
       "<style scoped>\n",
       "    .dataframe tbody tr th:only-of-type {\n",
       "        vertical-align: middle;\n",
       "    }\n",
       "\n",
       "    .dataframe tbody tr th {\n",
       "        vertical-align: top;\n",
       "    }\n",
       "\n",
       "    .dataframe thead th {\n",
       "        text-align: right;\n",
       "    }\n",
       "</style>\n",
       "<table border=\"1\" class=\"dataframe\">\n",
       "  <thead>\n",
       "    <tr style=\"text-align: right;\">\n",
       "      <th></th>\n",
       "      <th>dispx</th>\n",
       "      <th>dispy</th>\n",
       "      <th>dispz</th>\n",
       "      <th>temperature</th>\n",
       "      <th>humidity</th>\n",
       "      <th>rain</th>\n",
       "    </tr>\n",
       "  </thead>\n",
       "  <tbody>\n",
       "    <tr>\n",
       "      <th>mean</th>\n",
       "      <td>-0.818827</td>\n",
       "      <td>1.144754</td>\n",
       "      <td>0.675796</td>\n",
       "      <td>21.185974</td>\n",
       "      <td>83.631135</td>\n",
       "      <td>10431.167735</td>\n",
       "    </tr>\n",
       "    <tr>\n",
       "      <th>median</th>\n",
       "      <td>-0.141613</td>\n",
       "      <td>0.030477</td>\n",
       "      <td>-0.219011</td>\n",
       "      <td>22.296610</td>\n",
       "      <td>91.377780</td>\n",
       "      <td>18.000000</td>\n",
       "    </tr>\n",
       "    <tr>\n",
       "      <th>std</th>\n",
       "      <td>2.894063</td>\n",
       "      <td>2.654738</td>\n",
       "      <td>2.633149</td>\n",
       "      <td>4.394280</td>\n",
       "      <td>18.032444</td>\n",
       "      <td>24505.938128</td>\n",
       "    </tr>\n",
       "  </tbody>\n",
       "</table>\n",
       "</div>"
      ],
      "text/plain": [
       "           dispx     dispy     dispz  temperature   humidity          rain\n",
       "mean   -0.818827  1.144754  0.675796    21.185974  83.631135  10431.167735\n",
       "median -0.141613  0.030477 -0.219011    22.296610  91.377780     18.000000\n",
       "std     2.894063  2.654738  2.633149     4.394280  18.032444  24505.938128"
      ]
     },
     "execution_count": 41,
     "metadata": {},
     "output_type": "execute_result"
    }
   ],
   "source": [
    "dfc_describe=df_c.agg(['mean','median','std'])\n",
    "dfc_describe"
   ]
  },
  {
   "cell_type": "code",
   "execution_count": 42,
   "metadata": {},
   "outputs": [
    {
     "data": {
      "text/html": [
       "<div>\n",
       "<style scoped>\n",
       "    .dataframe tbody tr th:only-of-type {\n",
       "        vertical-align: middle;\n",
       "    }\n",
       "\n",
       "    .dataframe tbody tr th {\n",
       "        vertical-align: top;\n",
       "    }\n",
       "\n",
       "    .dataframe thead th {\n",
       "        text-align: right;\n",
       "    }\n",
       "</style>\n",
       "<table border=\"1\" class=\"dataframe\">\n",
       "  <thead>\n",
       "    <tr style=\"text-align: right;\">\n",
       "      <th></th>\n",
       "      <th>dates</th>\n",
       "      <th>stationid</th>\n",
       "      <th>dispx</th>\n",
       "      <th>dispy</th>\n",
       "      <th>dispz</th>\n",
       "      <th>temperature</th>\n",
       "      <th>humidity</th>\n",
       "      <th>rain</th>\n",
       "    </tr>\n",
       "  </thead>\n",
       "  <tbody>\n",
       "    <tr>\n",
       "      <th>0</th>\n",
       "      <td>08-07-2018</td>\n",
       "      <td>t10</td>\n",
       "      <td>0.000000</td>\n",
       "      <td>0.000000</td>\n",
       "      <td>0.000000</td>\n",
       "      <td>25.46875</td>\n",
       "      <td>82.18750</td>\n",
       "      <td>6.75</td>\n",
       "    </tr>\n",
       "    <tr>\n",
       "      <th>1</th>\n",
       "      <td>09-07-2018</td>\n",
       "      <td>t10</td>\n",
       "      <td>0.000000</td>\n",
       "      <td>0.000000</td>\n",
       "      <td>0.000000</td>\n",
       "      <td>26.19298</td>\n",
       "      <td>83.14912</td>\n",
       "      <td>1761.75</td>\n",
       "    </tr>\n",
       "    <tr>\n",
       "      <th>2</th>\n",
       "      <td>10-07-2018</td>\n",
       "      <td>t10</td>\n",
       "      <td>0.000000</td>\n",
       "      <td>0.000000</td>\n",
       "      <td>0.000000</td>\n",
       "      <td>25.17021</td>\n",
       "      <td>85.34043</td>\n",
       "      <td>652.50</td>\n",
       "    </tr>\n",
       "    <tr>\n",
       "      <th>3</th>\n",
       "      <td>11-07-2018</td>\n",
       "      <td>t10</td>\n",
       "      <td>-0.002835</td>\n",
       "      <td>0.003721</td>\n",
       "      <td>0.004961</td>\n",
       "      <td>24.29851</td>\n",
       "      <td>87.68657</td>\n",
       "      <td>963.00</td>\n",
       "    </tr>\n",
       "    <tr>\n",
       "      <th>4</th>\n",
       "      <td>12-07-2018</td>\n",
       "      <td>t10</td>\n",
       "      <td>-0.002835</td>\n",
       "      <td>0.003721</td>\n",
       "      <td>0.004961</td>\n",
       "      <td>24.06923</td>\n",
       "      <td>87.64615</td>\n",
       "      <td>254.25</td>\n",
       "    </tr>\n",
       "  </tbody>\n",
       "</table>\n",
       "</div>"
      ],
      "text/plain": [
       "        dates stationid     dispx     dispy     dispz  temperature  humidity  \\\n",
       "0  08-07-2018       t10  0.000000  0.000000  0.000000     25.46875  82.18750   \n",
       "1  09-07-2018       t10  0.000000  0.000000  0.000000     26.19298  83.14912   \n",
       "2  10-07-2018       t10  0.000000  0.000000  0.000000     25.17021  85.34043   \n",
       "3  11-07-2018       t10 -0.002835  0.003721  0.004961     24.29851  87.68657   \n",
       "4  12-07-2018       t10 -0.002835  0.003721  0.004961     24.06923  87.64615   \n",
       "\n",
       "      rain  \n",
       "0     6.75  \n",
       "1  1761.75  \n",
       "2   652.50  \n",
       "3   963.00  \n",
       "4   254.25  "
      ]
     },
     "execution_count": 42,
     "metadata": {},
     "output_type": "execute_result"
    }
   ],
   "source": [
    "dfv.head()"
   ]
  },
  {
   "cell_type": "code",
   "execution_count": null,
   "metadata": {},
   "outputs": [],
   "source": []
  },
  {
   "cell_type": "code",
   "execution_count": 43,
   "metadata": {},
   "outputs": [
    {
     "data": {
      "text/html": [
       "<div>\n",
       "<style scoped>\n",
       "    .dataframe tbody tr th:only-of-type {\n",
       "        vertical-align: middle;\n",
       "    }\n",
       "\n",
       "    .dataframe tbody tr th {\n",
       "        vertical-align: top;\n",
       "    }\n",
       "\n",
       "    .dataframe thead th {\n",
       "        text-align: right;\n",
       "    }\n",
       "</style>\n",
       "<table border=\"1\" class=\"dataframe\">\n",
       "  <thead>\n",
       "    <tr style=\"text-align: right;\">\n",
       "      <th></th>\n",
       "      <th>dates</th>\n",
       "      <th>stationid</th>\n",
       "      <th>dispx</th>\n",
       "      <th>dispy</th>\n",
       "      <th>dispz</th>\n",
       "      <th>temperature</th>\n",
       "      <th>humidity</th>\n",
       "      <th>rain</th>\n",
       "    </tr>\n",
       "  </thead>\n",
       "  <tbody>\n",
       "    <tr>\n",
       "      <th>0</th>\n",
       "      <td>08-07-2018</td>\n",
       "      <td>t10</td>\n",
       "      <td>0.000000</td>\n",
       "      <td>0.000000</td>\n",
       "      <td>0.000000</td>\n",
       "      <td>25.46875</td>\n",
       "      <td>82.18750</td>\n",
       "      <td>6.75</td>\n",
       "    </tr>\n",
       "    <tr>\n",
       "      <th>1</th>\n",
       "      <td>09-07-2018</td>\n",
       "      <td>t10</td>\n",
       "      <td>0.000000</td>\n",
       "      <td>0.000000</td>\n",
       "      <td>0.000000</td>\n",
       "      <td>26.19298</td>\n",
       "      <td>83.14912</td>\n",
       "      <td>1761.75</td>\n",
       "    </tr>\n",
       "    <tr>\n",
       "      <th>2</th>\n",
       "      <td>10-07-2018</td>\n",
       "      <td>t10</td>\n",
       "      <td>0.000000</td>\n",
       "      <td>0.000000</td>\n",
       "      <td>0.000000</td>\n",
       "      <td>25.17021</td>\n",
       "      <td>85.34043</td>\n",
       "      <td>652.50</td>\n",
       "    </tr>\n",
       "    <tr>\n",
       "      <th>3</th>\n",
       "      <td>11-07-2018</td>\n",
       "      <td>t10</td>\n",
       "      <td>-0.002835</td>\n",
       "      <td>0.003721</td>\n",
       "      <td>0.004961</td>\n",
       "      <td>22.26757</td>\n",
       "      <td>87.68657</td>\n",
       "      <td>963.00</td>\n",
       "    </tr>\n",
       "    <tr>\n",
       "      <th>4</th>\n",
       "      <td>12-07-2018</td>\n",
       "      <td>t10</td>\n",
       "      <td>-0.002835</td>\n",
       "      <td>0.003721</td>\n",
       "      <td>0.004961</td>\n",
       "      <td>22.26757</td>\n",
       "      <td>87.64615</td>\n",
       "      <td>254.25</td>\n",
       "    </tr>\n",
       "    <tr>\n",
       "      <th>5</th>\n",
       "      <td>13-07-2018</td>\n",
       "      <td>t10</td>\n",
       "      <td>-0.002835</td>\n",
       "      <td>0.003721</td>\n",
       "      <td>0.004961</td>\n",
       "      <td>22.26757</td>\n",
       "      <td>95.94805</td>\n",
       "      <td>339.75</td>\n",
       "    </tr>\n",
       "    <tr>\n",
       "      <th>7</th>\n",
       "      <td>18-07-2018</td>\n",
       "      <td>t10</td>\n",
       "      <td>-0.002835</td>\n",
       "      <td>-0.020377</td>\n",
       "      <td>-0.122618</td>\n",
       "      <td>21.79487</td>\n",
       "      <td>98.58974</td>\n",
       "      <td>29.25</td>\n",
       "    </tr>\n",
       "    <tr>\n",
       "      <th>8</th>\n",
       "      <td>19-07-2018</td>\n",
       "      <td>t10</td>\n",
       "      <td>0.007796</td>\n",
       "      <td>0.011872</td>\n",
       "      <td>-0.111277</td>\n",
       "      <td>25.09346</td>\n",
       "      <td>91.34188</td>\n",
       "      <td>4.50</td>\n",
       "    </tr>\n",
       "    <tr>\n",
       "      <th>9</th>\n",
       "      <td>20-07-2018</td>\n",
       "      <td>t10</td>\n",
       "      <td>0.009214</td>\n",
       "      <td>0.011163</td>\n",
       "      <td>-0.219011</td>\n",
       "      <td>25.39423</td>\n",
       "      <td>90.43269</td>\n",
       "      <td>112.50</td>\n",
       "    </tr>\n",
       "    <tr>\n",
       "      <th>10</th>\n",
       "      <td>21-07-2018</td>\n",
       "      <td>t10</td>\n",
       "      <td>0.009214</td>\n",
       "      <td>0.011163</td>\n",
       "      <td>-0.219011</td>\n",
       "      <td>23.89076</td>\n",
       "      <td>91.34188</td>\n",
       "      <td>735.75</td>\n",
       "    </tr>\n",
       "  </tbody>\n",
       "</table>\n",
       "</div>"
      ],
      "text/plain": [
       "         dates stationid     dispx     dispy     dispz  temperature  humidity  \\\n",
       "0   08-07-2018       t10  0.000000  0.000000  0.000000     25.46875  82.18750   \n",
       "1   09-07-2018       t10  0.000000  0.000000  0.000000     26.19298  83.14912   \n",
       "2   10-07-2018       t10  0.000000  0.000000  0.000000     25.17021  85.34043   \n",
       "3   11-07-2018       t10 -0.002835  0.003721  0.004961     22.26757  87.68657   \n",
       "4   12-07-2018       t10 -0.002835  0.003721  0.004961     22.26757  87.64615   \n",
       "5   13-07-2018       t10 -0.002835  0.003721  0.004961     22.26757  95.94805   \n",
       "7   18-07-2018       t10 -0.002835 -0.020377 -0.122618     21.79487  98.58974   \n",
       "8   19-07-2018       t10  0.007796  0.011872 -0.111277     25.09346  91.34188   \n",
       "9   20-07-2018       t10  0.009214  0.011163 -0.219011     25.39423  90.43269   \n",
       "10  21-07-2018       t10  0.009214  0.011163 -0.219011     23.89076  91.34188   \n",
       "\n",
       "       rain  \n",
       "0      6.75  \n",
       "1   1761.75  \n",
       "2    652.50  \n",
       "3    963.00  \n",
       "4    254.25  \n",
       "5    339.75  \n",
       "7     29.25  \n",
       "8      4.50  \n",
       "9    112.50  \n",
       "10   735.75  "
      ]
     },
     "execution_count": 43,
     "metadata": {},
     "output_type": "execute_result"
    }
   ],
   "source": [
    "df.head(n=10)"
   ]
  },
  {
   "cell_type": "markdown",
   "metadata": {},
   "source": [
    "Compare these replaced values with the actual values present in\n",
    "the original file. Calculate the root mean square error (RMSE)\n",
    "between the original and replaced values for each attribute. (Get\n",
    "original values from original file provided)."
   ]
  },
  {
   "cell_type": "code",
   "execution_count": 44,
   "metadata": {},
   "outputs": [],
   "source": [
    "x=df.values[:,2:] - dfv.values[:,2:]"
   ]
  },
  {
   "cell_type": "code",
   "execution_count": 45,
   "metadata": {},
   "outputs": [
    {
     "data": {
      "text/plain": [
       "array([[0.0, 0.0, 0.0, 0.0, 0.0, 0.0],\n",
       "       [0.0, 0.0, 0.0, 0.0, 0.0, 0.0],\n",
       "       [0.0, 0.0, 0.0, 0.0, 0.0, 0.0],\n",
       "       ...,\n",
       "       [0.0, 0.0, 0.0, 0.0, 0.0, 0.0],\n",
       "       [0.0, 0.0, 0.0, 0.0, 0.0, 0.0],\n",
       "       [0.0, 0.0, 0.0, 0.0, 0.0, 0.0]], dtype=object)"
      ]
     },
     "execution_count": 45,
     "metadata": {},
     "output_type": "execute_result"
    }
   ],
   "source": [
    "x"
   ]
  },
  {
   "cell_type": "code",
   "execution_count": 46,
   "metadata": {},
   "outputs": [],
   "source": [
    "e=np.sqrt(np.square(x).sum()/142)"
   ]
  },
  {
   "cell_type": "code",
   "execution_count": 47,
   "metadata": {},
   "outputs": [
    {
     "data": {
      "text/plain": [
       "20.277203214101345"
      ]
     },
     "execution_count": 47,
     "metadata": {},
     "output_type": "execute_result"
    }
   ],
   "source": [
    "e"
   ]
  },
  {
   "cell_type": "code",
   "execution_count": 48,
   "metadata": {},
   "outputs": [
    {
     "name": "stdout",
     "output_type": "stream",
     "text": [
      "RMSE is  20.277203214101345\n"
     ]
    }
   ],
   "source": [
    "print(\"RMSE is \",e)"
   ]
  },
  {
   "cell_type": "code",
   "execution_count": 49,
   "metadata": {},
   "outputs": [],
   "source": [
    "df_ad.interpolate(method='linear',inplace=True)"
   ]
  },
  {
   "cell_type": "code",
   "execution_count": 50,
   "metadata": {},
   "outputs": [
    {
     "data": {
      "text/html": [
       "<div>\n",
       "<style scoped>\n",
       "    .dataframe tbody tr th:only-of-type {\n",
       "        vertical-align: middle;\n",
       "    }\n",
       "\n",
       "    .dataframe tbody tr th {\n",
       "        vertical-align: top;\n",
       "    }\n",
       "\n",
       "    .dataframe thead th {\n",
       "        text-align: right;\n",
       "    }\n",
       "</style>\n",
       "<table border=\"1\" class=\"dataframe\">\n",
       "  <thead>\n",
       "    <tr style=\"text-align: right;\">\n",
       "      <th></th>\n",
       "      <th>dates</th>\n",
       "      <th>stationid</th>\n",
       "      <th>dispx</th>\n",
       "      <th>dispy</th>\n",
       "      <th>dispz</th>\n",
       "      <th>temperature</th>\n",
       "      <th>humidity</th>\n",
       "      <th>rain</th>\n",
       "    </tr>\n",
       "  </thead>\n",
       "  <tbody>\n",
       "    <tr>\n",
       "      <th>0</th>\n",
       "      <td>08-07-2018</td>\n",
       "      <td>t10</td>\n",
       "      <td>0.000000</td>\n",
       "      <td>0.000000</td>\n",
       "      <td>0.000000</td>\n",
       "      <td>25.468750</td>\n",
       "      <td>82.18750</td>\n",
       "      <td>6.75</td>\n",
       "    </tr>\n",
       "    <tr>\n",
       "      <th>1</th>\n",
       "      <td>09-07-2018</td>\n",
       "      <td>t10</td>\n",
       "      <td>0.000000</td>\n",
       "      <td>0.000000</td>\n",
       "      <td>0.000000</td>\n",
       "      <td>26.192980</td>\n",
       "      <td>83.14912</td>\n",
       "      <td>1761.75</td>\n",
       "    </tr>\n",
       "    <tr>\n",
       "      <th>2</th>\n",
       "      <td>10-07-2018</td>\n",
       "      <td>t10</td>\n",
       "      <td>0.000000</td>\n",
       "      <td>0.000000</td>\n",
       "      <td>0.000000</td>\n",
       "      <td>25.170210</td>\n",
       "      <td>85.34043</td>\n",
       "      <td>652.50</td>\n",
       "    </tr>\n",
       "    <tr>\n",
       "      <th>3</th>\n",
       "      <td>11-07-2018</td>\n",
       "      <td>t10</td>\n",
       "      <td>-0.002835</td>\n",
       "      <td>0.003721</td>\n",
       "      <td>0.004961</td>\n",
       "      <td>24.326375</td>\n",
       "      <td>87.68657</td>\n",
       "      <td>963.00</td>\n",
       "    </tr>\n",
       "    <tr>\n",
       "      <th>4</th>\n",
       "      <td>12-07-2018</td>\n",
       "      <td>t10</td>\n",
       "      <td>-0.002835</td>\n",
       "      <td>0.003721</td>\n",
       "      <td>0.004961</td>\n",
       "      <td>23.482540</td>\n",
       "      <td>87.64615</td>\n",
       "      <td>254.25</td>\n",
       "    </tr>\n",
       "  </tbody>\n",
       "</table>\n",
       "</div>"
      ],
      "text/plain": [
       "        dates stationid     dispx     dispy     dispz  temperature  humidity  \\\n",
       "0  08-07-2018       t10  0.000000  0.000000  0.000000    25.468750  82.18750   \n",
       "1  09-07-2018       t10  0.000000  0.000000  0.000000    26.192980  83.14912   \n",
       "2  10-07-2018       t10  0.000000  0.000000  0.000000    25.170210  85.34043   \n",
       "3  11-07-2018       t10 -0.002835  0.003721  0.004961    24.326375  87.68657   \n",
       "4  12-07-2018       t10 -0.002835  0.003721  0.004961    23.482540  87.64615   \n",
       "\n",
       "      rain  \n",
       "0     6.75  \n",
       "1  1761.75  \n",
       "2   652.50  \n",
       "3   963.00  \n",
       "4   254.25  "
      ]
     },
     "execution_count": 50,
     "metadata": {},
     "output_type": "execute_result"
    }
   ],
   "source": [
    "df_ad.head()"
   ]
  },
  {
   "cell_type": "code",
   "execution_count": 51,
   "metadata": {},
   "outputs": [
    {
     "data": {
      "text/html": [
       "<div>\n",
       "<style scoped>\n",
       "    .dataframe tbody tr th:only-of-type {\n",
       "        vertical-align: middle;\n",
       "    }\n",
       "\n",
       "    .dataframe tbody tr th {\n",
       "        vertical-align: top;\n",
       "    }\n",
       "\n",
       "    .dataframe thead th {\n",
       "        text-align: right;\n",
       "    }\n",
       "</style>\n",
       "<table border=\"1\" class=\"dataframe\">\n",
       "  <thead>\n",
       "    <tr style=\"text-align: right;\">\n",
       "      <th></th>\n",
       "      <th>dispx</th>\n",
       "      <th>dispy</th>\n",
       "      <th>dispz</th>\n",
       "      <th>temperature</th>\n",
       "      <th>humidity</th>\n",
       "      <th>rain</th>\n",
       "    </tr>\n",
       "  </thead>\n",
       "  <tbody>\n",
       "    <tr>\n",
       "      <th>mean</th>\n",
       "      <td>-0.800242</td>\n",
       "      <td>1.166130</td>\n",
       "      <td>0.698932</td>\n",
       "      <td>21.184225</td>\n",
       "      <td>83.485611</td>\n",
       "      <td>10445.672060</td>\n",
       "    </tr>\n",
       "    <tr>\n",
       "      <th>median</th>\n",
       "      <td>-0.141613</td>\n",
       "      <td>0.030477</td>\n",
       "      <td>-0.219011</td>\n",
       "      <td>22.273690</td>\n",
       "      <td>91.210495</td>\n",
       "      <td>15.750000</td>\n",
       "    </tr>\n",
       "    <tr>\n",
       "      <th>std</th>\n",
       "      <td>2.901759</td>\n",
       "      <td>2.656706</td>\n",
       "      <td>2.645267</td>\n",
       "      <td>4.358923</td>\n",
       "      <td>18.017623</td>\n",
       "      <td>24554.599794</td>\n",
       "    </tr>\n",
       "  </tbody>\n",
       "</table>\n",
       "</div>"
      ],
      "text/plain": [
       "           dispx     dispy     dispz  temperature   humidity          rain\n",
       "mean   -0.800242  1.166130  0.698932    21.184225  83.485611  10445.672060\n",
       "median -0.141613  0.030477 -0.219011    22.273690  91.210495     15.750000\n",
       "std     2.901759  2.656706  2.645267     4.358923  18.017623  24554.599794"
      ]
     },
     "execution_count": 51,
     "metadata": {},
     "output_type": "execute_result"
    }
   ],
   "source": [
    "df_ad.agg(['mean','median','std'])"
   ]
  },
  {
   "cell_type": "code",
   "execution_count": 52,
   "metadata": {},
   "outputs": [
    {
     "data": {
      "text/html": [
       "<div>\n",
       "<style scoped>\n",
       "    .dataframe tbody tr th:only-of-type {\n",
       "        vertical-align: middle;\n",
       "    }\n",
       "\n",
       "    .dataframe tbody tr th {\n",
       "        vertical-align: top;\n",
       "    }\n",
       "\n",
       "    .dataframe thead th {\n",
       "        text-align: right;\n",
       "    }\n",
       "</style>\n",
       "<table border=\"1\" class=\"dataframe\">\n",
       "  <thead>\n",
       "    <tr style=\"text-align: right;\">\n",
       "      <th></th>\n",
       "      <th>dispx</th>\n",
       "      <th>dispy</th>\n",
       "      <th>dispz</th>\n",
       "      <th>temperature</th>\n",
       "      <th>humidity</th>\n",
       "      <th>rain</th>\n",
       "    </tr>\n",
       "  </thead>\n",
       "  <tbody>\n",
       "    <tr>\n",
       "      <th>mean</th>\n",
       "      <td>-0.838917</td>\n",
       "      <td>1.148107</td>\n",
       "      <td>0.687709</td>\n",
       "      <td>21.214888</td>\n",
       "      <td>83.479932</td>\n",
       "      <td>10701.538370</td>\n",
       "    </tr>\n",
       "    <tr>\n",
       "      <th>median</th>\n",
       "      <td>-0.141613</td>\n",
       "      <td>0.030477</td>\n",
       "      <td>-0.172586</td>\n",
       "      <td>22.272730</td>\n",
       "      <td>91.380950</td>\n",
       "      <td>18.000000</td>\n",
       "    </tr>\n",
       "    <tr>\n",
       "      <th>std</th>\n",
       "      <td>2.892552</td>\n",
       "      <td>2.652794</td>\n",
       "      <td>2.630815</td>\n",
       "      <td>4.355818</td>\n",
       "      <td>18.210065</td>\n",
       "      <td>24852.255288</td>\n",
       "    </tr>\n",
       "  </tbody>\n",
       "</table>\n",
       "</div>"
      ],
      "text/plain": [
       "           dispx     dispy     dispz  temperature   humidity          rain\n",
       "mean   -0.838917  1.148107  0.687709    21.214888  83.479932  10701.538370\n",
       "median -0.141613  0.030477 -0.172586    22.272730  91.380950     18.000000\n",
       "std     2.892552  2.652794  2.630815     4.355818  18.210065  24852.255288"
      ]
     },
     "execution_count": 52,
     "metadata": {},
     "output_type": "execute_result"
    }
   ],
   "source": [
    "dfo_describe"
   ]
  },
  {
   "cell_type": "code",
   "execution_count": 53,
   "metadata": {},
   "outputs": [
    {
     "name": "stdout",
     "output_type": "stream",
     "text": [
      "RMSE is  17.39882951097859\n"
     ]
    }
   ],
   "source": [
    "x=df_ad.values[:,2:] - dfv.values[:,2:]\n",
    "e=np.sqrt(np.square(x).sum()/142)\n",
    "print(\"RMSE is \",e)"
   ]
  },
  {
   "cell_type": "code",
   "execution_count": 55,
   "metadata": {},
   "outputs": [
    {
     "data": {
      "text/plain": [
       "Text(0.5, 0, 'Attribute Temperature')"
      ]
     },
     "execution_count": 55,
     "metadata": {},
     "output_type": "execute_result"
    },
    {
     "data": {
      "image/png": "[encoded data removed]",
      "text/plain": [
       "<Figure size 432x288 with 1 Axes>"
      ]
     },
     "metadata": {
      "needs_background": "light"
     },
     "output_type": "display_data"
    }
   ],
   "source": [
    "df_t2['temperature'].fillna(df_t2.temperature.median(),inplace=True)\n",
    "plt.hist(df_t2.temperature)\n",
    "plt.ylabel(\"Count\")\n",
    "plt.xlabel(\"Attribute Temperature\")"
   ]
  },
  {
   "cell_type": "code",
   "execution_count": 56,
   "metadata": {},
   "outputs": [
    {
     "data": {
      "text/plain": [
       "Text(0.5, 0, 'Attribute Temperature')"
      ]
     },
     "execution_count": 56,
     "metadata": {},
     "output_type": "execute_result"
    },
    {
     "data": {
      "image/png": "[encoded data removed]",
      "text/plain": [
       "<Figure size 432x288 with 1 Axes>"
      ]
     },
     "metadata": {
      "needs_background": "light"
     },
     "output_type": "display_data"
    }
   ],
   "source": [
    "df_t3['temperature'].interpolate(method='linear',inplace=True)\n",
    "plt.hist(df_t3.temperature)\n",
    "plt.ylabel(\"Count\")\n",
    "plt.xlabel(\"Attribute Temperature\")"
   ]
  },
  {
   "cell_type": "code",
   "execution_count": 57,
   "metadata": {},
   "outputs": [],
   "source": [
    "sid=np.unique(df['stationid'])"
   ]
  },
  {
   "cell_type": "code",
   "execution_count": 60,
   "metadata": {},
   "outputs": [
    {
     "data": {
      "text/plain": [
       "array(['t10', 't11', 't12', 't13', 't14', 't15', 't6', 't7', 't8', 't9'],\n",
       "      dtype=object)"
      ]
     },
     "execution_count": 60,
     "metadata": {},
     "output_type": "execute_result"
    }
   ],
   "source": [
    "sid"
   ]
  },
  {
   "cell_type": "code",
   "execution_count": 61,
   "metadata": {},
   "outputs": [
    {
     "data": {
      "image/png": "[encoded data removed]",
      "text/plain": [
       "<Figure size 432x288 with 1 Axes>"
      ]
     },
     "metadata": {
      "needs_background": "light"
     },
     "output_type": "display_data"
    },
    {
     "data": {
      "image/png": "[encoded data removed]",
      "text/plain": [
       "<Figure size 432x288 with 1 Axes>"
      ]
     },
     "metadata": {
      "needs_background": "light"
     },
     "output_type": "display_data"
    },
    {
     "data": {
      "image/png": "[encoded data removed]",
      "text/plain": [
       "<Figure size 432x288 with 1 Axes>"
      ]
     },
     "metadata": {
      "needs_background": "light"
     },
     "output_type": "display_data"
    },
    {
     "data": {
      "image/png": "[encoded data removed]",
      "text/plain": [
       "<Figure size 432x288 with 1 Axes>"
      ]
     },
     "metadata": {
      "needs_background": "light"
     },
     "output_type": "display_data"
    },
    {
     "data": {
      "image/png": "[encoded data removed]",
      "text/plain": [
       "<Figure size 432x288 with 1 Axes>"
      ]
     },
     "metadata": {
      "needs_background": "light"
     },
     "output_type": "display_data"
    },
    {
     "data": {
      "image/png": "[encoded data removed]",
      "text/plain": [
       "<Figure size 432x288 with 1 Axes>"
      ]
     },
     "metadata": {
      "needs_background": "light"
     },
     "output_type": "display_data"
    },
    {
     "data": {
      "image/png": "[encoded data removed]",
      "text/plain": [
       "<Figure size 432x288 with 1 Axes>"
      ]
     },
     "metadata": {
      "needs_background": "light"
     },
     "output_type": "display_data"
    },
    {
     "data": {
      "image/png": "[encoded data removed]",
      "text/plain": [
       "<Figure size 432x288 with 1 Axes>"
      ]
     },
     "metadata": {
      "needs_background": "light"
     },
     "output_type": "display_data"
    },
    {
     "data": {
      "image/png": "[encoded data removed]",
      "text/plain": [
       "<Figure size 432x288 with 1 Axes>"
      ]
     },
     "metadata": {
      "needs_background": "light"
     },
     "output_type": "display_data"
    },
    {
     "data": {
      "image/png": "[encoded data removed]",
      "text/plain": [
       "<Figure size 432x288 with 1 Axes>"
      ]
     },
     "metadata": {
      "needs_background": "light"
     },
     "output_type": "display_data"
    }
   ],
   "source": [
    "for i in sid:\n",
    "    plt.plot(df.dates[df.stationid==i],df.temperature[df.stationid==i])\n",
    "    plt.show()"
   ]
  },
  {
   "cell_type": "code",
   "execution_count": 62,
   "metadata": {},
   "outputs": [
    {
     "data": {
      "text/plain": [
       "810    10-07-2018\n",
       "811    12-07-2018\n",
       "813    15-07-2018\n",
       "814    16-07-2018\n",
       "815    18-07-2018\n",
       "816    19-07-2018\n",
       "817    20-07-2018\n",
       "818    21-07-2018\n",
       "819    22-07-2018\n",
       "820    23-07-2018\n",
       "821    24-07-2018\n",
       "822    25-07-2018\n",
       "823    26-07-2018\n",
       "824    28-07-2018\n",
       "825    29-07-2018\n",
       "826    30-07-2018\n",
       "827    31-07-2018\n",
       "828    01-08-2018\n",
       "829    02-08-2018\n",
       "830    03-08-2018\n",
       "831    04-08-2018\n",
       "832    05-08-2018\n",
       "834    07-08-2018\n",
       "835    08-08-2018\n",
       "836    09-08-2018\n",
       "837    10-08-2018\n",
       "838    11-08-2018\n",
       "839    12-08-2018\n",
       "840    13-08-2018\n",
       "841    14-08-2018\n",
       "          ...    \n",
       "913    25-10-2018\n",
       "914    26-10-2018\n",
       "915    27-10-2018\n",
       "916    28-10-2018\n",
       "917    29-10-2018\n",
       "918    30-10-2018\n",
       "919    31-10-2018\n",
       "920    01-11-2018\n",
       "921    02-11-2018\n",
       "922    03-11-2018\n",
       "923    04-11-2018\n",
       "924    05-11-2018\n",
       "925    06-11-2018\n",
       "926    07-11-2018\n",
       "927    08-11-2018\n",
       "928    09-11-2018\n",
       "929    10-11-2018\n",
       "930    11-11-2018\n",
       "931    12-11-2018\n",
       "932    13-11-2018\n",
       "933    14-11-2018\n",
       "934    15-11-2018\n",
       "935    16-11-2018\n",
       "936    17-11-2018\n",
       "937    18-11-2018\n",
       "938    19-11-2018\n",
       "941    22-11-2018\n",
       "942    23-11-2018\n",
       "943    24-11-2018\n",
       "944    25-11-2018\n",
       "Name: dates, Length: 131, dtype: object"
      ]
     },
     "execution_count": 62,
     "metadata": {},
     "output_type": "execute_result"
    }
   ],
   "source": [
    "df.dates[df.stationid==i]"
   ]
  },
  {
   "cell_type": "code",
   "execution_count": 63,
   "metadata": {},
   "outputs": [
    {
     "data": {
      "text/plain": [
       "810    25.00000\n",
       "811    15.26437\n",
       "813    16.06122\n",
       "814    13.50000\n",
       "815    21.83333\n",
       "816    25.81752\n",
       "817    25.86131\n",
       "818    24.77941\n",
       "819    24.28889\n",
       "820    24.26866\n",
       "821    23.00000\n",
       "822    24.72993\n",
       "823    22.56604\n",
       "824    20.96552\n",
       "825    22.26757\n",
       "826    25.44366\n",
       "827    24.38806\n",
       "828    22.26757\n",
       "829    24.82014\n",
       "830    24.78723\n",
       "831    23.62963\n",
       "832    21.68571\n",
       "834    21.15267\n",
       "835    23.83784\n",
       "836    27.62500\n",
       "837    22.00000\n",
       "838    22.36585\n",
       "839    22.26757\n",
       "840    21.80000\n",
       "841    27.70000\n",
       "         ...   \n",
       "913    19.32394\n",
       "914    19.47857\n",
       "915    19.05147\n",
       "916    20.00000\n",
       "917    20.32143\n",
       "918    19.61429\n",
       "919    20.63971\n",
       "920    19.05185\n",
       "921    15.84672\n",
       "922    13.67391\n",
       "923    13.71127\n",
       "924    16.32857\n",
       "925    16.90071\n",
       "926    17.42958\n",
       "927    16.46429\n",
       "928    16.61268\n",
       "929    17.02113\n",
       "930    15.70213\n",
       "931    17.97857\n",
       "932    14.91489\n",
       "933    15.50000\n",
       "934    13.75540\n",
       "935    14.48936\n",
       "936    14.19424\n",
       "937    16.18440\n",
       "938    13.16901\n",
       "941    15.52482\n",
       "942    15.81560\n",
       "943    16.58571\n",
       "944    17.90000\n",
       "Name: temperature, Length: 131, dtype: float64"
      ]
     },
     "execution_count": 63,
     "metadata": {},
     "output_type": "execute_result"
    }
   ],
   "source": [
    "df.temperature[df.stationid==i]"
   ]
  },
  {
   "cell_type": "code",
   "execution_count": 64,
   "metadata": {},
   "outputs": [
    {
     "data": {
      "text/html": [
       "<div>\n",
       "<style scoped>\n",
       "    .dataframe tbody tr th:only-of-type {\n",
       "        vertical-align: middle;\n",
       "    }\n",
       "\n",
       "    .dataframe tbody tr th {\n",
       "        vertical-align: top;\n",
       "    }\n",
       "\n",
       "    .dataframe thead th {\n",
       "        text-align: right;\n",
       "    }\n",
       "</style>\n",
       "<table border=\"1\" class=\"dataframe\">\n",
       "  <thead>\n",
       "    <tr style=\"text-align: right;\">\n",
       "      <th></th>\n",
       "      <th>dates</th>\n",
       "      <th>stationid</th>\n",
       "      <th>dispx</th>\n",
       "      <th>dispy</th>\n",
       "      <th>dispz</th>\n",
       "      <th>temperature</th>\n",
       "      <th>humidity</th>\n",
       "      <th>rain</th>\n",
       "    </tr>\n",
       "  </thead>\n",
       "  <tbody>\n",
       "    <tr>\n",
       "      <th>0</th>\n",
       "      <td>08-07-2018</td>\n",
       "      <td>t10</td>\n",
       "      <td>0.000000</td>\n",
       "      <td>0.000000</td>\n",
       "      <td>0.000000</td>\n",
       "      <td>25.46875</td>\n",
       "      <td>82.18750</td>\n",
       "      <td>6.75</td>\n",
       "    </tr>\n",
       "    <tr>\n",
       "      <th>1</th>\n",
       "      <td>09-07-2018</td>\n",
       "      <td>t10</td>\n",
       "      <td>0.000000</td>\n",
       "      <td>0.000000</td>\n",
       "      <td>0.000000</td>\n",
       "      <td>26.19298</td>\n",
       "      <td>83.14912</td>\n",
       "      <td>1761.75</td>\n",
       "    </tr>\n",
       "    <tr>\n",
       "      <th>2</th>\n",
       "      <td>10-07-2018</td>\n",
       "      <td>t10</td>\n",
       "      <td>0.000000</td>\n",
       "      <td>0.000000</td>\n",
       "      <td>0.000000</td>\n",
       "      <td>25.17021</td>\n",
       "      <td>85.34043</td>\n",
       "      <td>652.50</td>\n",
       "    </tr>\n",
       "    <tr>\n",
       "      <th>3</th>\n",
       "      <td>11-07-2018</td>\n",
       "      <td>t10</td>\n",
       "      <td>-0.002835</td>\n",
       "      <td>0.003721</td>\n",
       "      <td>0.004961</td>\n",
       "      <td>22.26757</td>\n",
       "      <td>87.68657</td>\n",
       "      <td>963.00</td>\n",
       "    </tr>\n",
       "    <tr>\n",
       "      <th>4</th>\n",
       "      <td>12-07-2018</td>\n",
       "      <td>t10</td>\n",
       "      <td>-0.002835</td>\n",
       "      <td>0.003721</td>\n",
       "      <td>0.004961</td>\n",
       "      <td>22.26757</td>\n",
       "      <td>87.64615</td>\n",
       "      <td>254.25</td>\n",
       "    </tr>\n",
       "  </tbody>\n",
       "</table>\n",
       "</div>"
      ],
      "text/plain": [
       "        dates stationid     dispx     dispy     dispz  temperature  humidity  \\\n",
       "0  08-07-2018       t10  0.000000  0.000000  0.000000     25.46875  82.18750   \n",
       "1  09-07-2018       t10  0.000000  0.000000  0.000000     26.19298  83.14912   \n",
       "2  10-07-2018       t10  0.000000  0.000000  0.000000     25.17021  85.34043   \n",
       "3  11-07-2018       t10 -0.002835  0.003721  0.004961     22.26757  87.68657   \n",
       "4  12-07-2018       t10 -0.002835  0.003721  0.004961     22.26757  87.64615   \n",
       "\n",
       "      rain  \n",
       "0     6.75  \n",
       "1  1761.75  \n",
       "2   652.50  \n",
       "3   963.00  \n",
       "4   254.25  "
      ]
     },
     "execution_count": 64,
     "metadata": {},
     "output_type": "execute_result"
    }
   ],
   "source": [
    "df.head()"
   ]
  },
  {
   "cell_type": "code",
   "execution_count": null,
   "metadata": {},
   "outputs": [],
   "source": []
  }
 ],
 "metadata": {
  "kernelspec": {
   "display_name": "Python 3",
   "language": "python",
   "name": "python3"
  },
  "language_info": {
   "codemirror_mode": {
    "name": "ipython",
    "version": 3
   },
   "file_extension": ".py",
   "mimetype": "text/x-python",
   "name": "python",
   "nbconvert_exporter": "python",
   "pygments_lexer": "ipython3",
   "version": "3.7.3"
  }
 },
 "nbformat": 4,
 "nbformat_minor": 2
}
